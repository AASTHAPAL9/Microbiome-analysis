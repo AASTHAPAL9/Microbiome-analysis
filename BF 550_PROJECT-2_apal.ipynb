{
 "cells": [
  {
   "cell_type": "code",
   "execution_count": 289,
   "id": "cd6aeced",
   "metadata": {},
   "outputs": [],
   "source": [
    "import pandas as pd\n",
    "import os\n",
    "import numpy as np\n",
    "import seaborn as sns\n",
    "import matplotlib.pyplot as plt \n",
    "import statsmodels.api as sm\n",
    "df = pd.read_excel('/Users/aasthapal/Downloads/SALAMANDER.xlsx')"
   ]
  },
  {
   "cell_type": "markdown",
   "id": "c63adcae",
   "metadata": {},
   "source": [
    "# Plot 1B"
   ]
  },
  {
   "cell_type": "code",
   "execution_count": 309,
   "id": "cf1ffcce",
   "metadata": {},
   "outputs": [
    {
     "data": {
      "text/html": [
       "<div>\n",
       "<style scoped>\n",
       "    .dataframe tbody tr th:only-of-type {\n",
       "        vertical-align: middle;\n",
       "    }\n",
       "\n",
       "    .dataframe tbody tr th {\n",
       "        vertical-align: top;\n",
       "    }\n",
       "\n",
       "    .dataframe thead th {\n",
       "        text-align: right;\n",
       "    }\n",
       "</style>\n",
       "<table border=\"1\" class=\"dataframe\">\n",
       "  <thead>\n",
       "    <tr style=\"text-align: right;\">\n",
       "      <th></th>\n",
       "      <th>Bacterial abundance estimates on the skin of healthy, wild salamanders in Germany</th>\n",
       "      <th>Unnamed: 1</th>\n",
       "      <th>Unnamed: 2</th>\n",
       "      <th>Unnamed: 3</th>\n",
       "    </tr>\n",
       "  </thead>\n",
       "  <tbody>\n",
       "    <tr>\n",
       "      <th>0</th>\n",
       "      <td>Sample Name</td>\n",
       "      <td>Site</td>\n",
       "      <td>Region</td>\n",
       "      <td>Bacterial abundance (qPCR)</td>\n",
       "    </tr>\n",
       "    <tr>\n",
       "      <th>1</th>\n",
       "      <td>KAZ031</td>\n",
       "      <td>KAZ</td>\n",
       "      <td>Eifel</td>\n",
       "      <td>7330</td>\n",
       "    </tr>\n",
       "    <tr>\n",
       "      <th>2</th>\n",
       "      <td>KAZ033</td>\n",
       "      <td>KAZ</td>\n",
       "      <td>Eifel</td>\n",
       "      <td>31600</td>\n",
       "    </tr>\n",
       "    <tr>\n",
       "      <th>3</th>\n",
       "      <td>KAZ034</td>\n",
       "      <td>KAZ</td>\n",
       "      <td>Eifel</td>\n",
       "      <td>12600</td>\n",
       "    </tr>\n",
       "    <tr>\n",
       "      <th>4</th>\n",
       "      <td>KAZ035</td>\n",
       "      <td>KAZ</td>\n",
       "      <td>Eifel</td>\n",
       "      <td>5200</td>\n",
       "    </tr>\n",
       "  </tbody>\n",
       "</table>\n",
       "</div>"
      ],
      "text/plain": [
       "  Bacterial abundance estimates on the skin of healthy, wild salamanders in Germany  \\\n",
       "0                                        Sample Name                                  \n",
       "1                                             KAZ031                                  \n",
       "2                                             KAZ033                                  \n",
       "3                                             KAZ034                                  \n",
       "4                                             KAZ035                                  \n",
       "\n",
       "  Unnamed: 1 Unnamed: 2                  Unnamed: 3  \n",
       "0       Site     Region  Bacterial abundance (qPCR)  \n",
       "1        KAZ      Eifel                        7330  \n",
       "2        KAZ      Eifel                       31600  \n",
       "3        KAZ      Eifel                       12600  \n",
       "4        KAZ      Eifel                        5200  "
      ]
     },
     "execution_count": 309,
     "metadata": {},
     "output_type": "execute_result"
    }
   ],
   "source": [
    "import pandas as pd ##IN THIS PLOT I HAVE TRIED TO identify the bacterial abundance on salamaander skin  at various sites\n",
    "import os\n",
    "import numpy as np\n",
    "import seaborn as sns\n",
    "import matplotlib.pyplot as plt \n",
    "import statsmodels.api as sm\n",
    "# df = pd.read_excel('SALAMANDER.xlsx', sheet_name=3)\n",
    "df = pd.read_excel('SALAMANDER.xlsx', sheet_name='Bacterial Abundance (Field)') \n",
    "# print (df)\n",
    "df.head()"
   ]
  },
  {
   "cell_type": "code",
   "execution_count": 312,
   "id": "5a2342c7",
   "metadata": {},
   "outputs": [],
   "source": [
    "!pip install -q statsmodels\n",
    "import numpy as np\n",
    "import pandas as pd\n",
    "import statsmodels.api as sm\n",
    "import statsmodels.formula.api as smf\n",
    "# data = sm.datasets.get_rdataset('dietox', 'geepack').data\n",
    "# md = smf.mixedlm(\"Weight ~ Time\", data, groups=data[\"Pig\"], re_formula=\"~Time\")\n",
    "# mdf = md.fit(method=[\"lbfgs\"])\n",
    "# print(mdf.summary())"
   ]
  },
  {
   "cell_type": "code",
   "execution_count": 313,
   "id": "cfa0d20f",
   "metadata": {},
   "outputs": [],
   "source": [
    "df.columns =['Sample Name', 'Site', 'Region', 'Bacterial abundance (qPCR)']"
   ]
  },
  {
   "cell_type": "code",
   "execution_count": 314,
   "id": "9b546113",
   "metadata": {},
   "outputs": [],
   "source": [
    "df = df.drop([0])"
   ]
  },
  {
   "cell_type": "code",
   "execution_count": 315,
   "id": "10bd7707",
   "metadata": {},
   "outputs": [],
   "source": [
    "# ax = sns.boxplot(x='Site', y='Bacterial abundance (qPCR)', data=df)\n",
    "sns.set_theme(style=\"whitegrid\")\n",
    "# ax = df.boxplot(x = 1, y = 3, data = df)"
   ]
  },
  {
   "cell_type": "code",
   "execution_count": 316,
   "id": "1067f8f4",
   "metadata": {},
   "outputs": [
    {
     "data": {
      "text/plain": [
       "Index(['Sample Name', 'Site', 'Region', 'Bacterial abundance (qPCR)'], dtype='object')"
      ]
     },
     "execution_count": 316,
     "metadata": {},
     "output_type": "execute_result"
    }
   ],
   "source": [
    "df.columns"
   ]
  },
  {
   "cell_type": "code",
   "execution_count": 317,
   "id": "24429d5d",
   "metadata": {},
   "outputs": [
    {
     "data": {
      "text/plain": [
       "1"
      ]
     },
     "execution_count": 317,
     "metadata": {},
     "output_type": "execute_result"
    }
   ],
   "source": [
    "df.columns.get_loc(\"Site\")"
   ]
  },
  {
   "cell_type": "code",
   "execution_count": 318,
   "id": "ec098639",
   "metadata": {},
   "outputs": [],
   "source": [
    "df_grouped = df.groupby(\"Site\")"
   ]
  },
  {
   "cell_type": "code",
   "execution_count": 319,
   "id": "b5743a1c",
   "metadata": {},
   "outputs": [],
   "source": [
    "df_Fi = df_grouped.get_group(\"Fi\")['Bacterial abundance (qPCR)']\n",
    "df_KAZ = df_grouped.get_group(\"KAZ\")['Bacterial abundance (qPCR)']\n",
    "df_KB = df_grouped.get_group(\"KB\")['Bacterial abundance (qPCR)']\n",
    "df_SO = df_grouped.get_group(\"SO\")['Bacterial abundance (qPCR)']"
   ]
  },
  {
   "cell_type": "code",
   "execution_count": 320,
   "id": "494beb76",
   "metadata": {},
   "outputs": [],
   "source": [
    "###for plotting\n",
    "# fig, axs = plt.subplots(4)\n",
    "# plt.figure(figsize=(15,8))\n",
    "\n",
    "# axs[0].boxplot(x=df_Fi)\n",
    "# axs[1].boxplot(x=df_KAZ)\n",
    "# axs[2].boxplot(x=df_KB)\n",
    "# axs[3].boxplot(x=df_SO)\n",
    "\n",
    "# axs[0].semilogy(base = 10)\n",
    "# axs[1].semilogy(base = 10)\n",
    "# axs[2].semilogy(base = 10)\n",
    "# axs[3].semilogy(base = 10)\n",
    "\n",
    "# plt.show()"
   ]
  },
  {
   "cell_type": "code",
   "execution_count": 321,
   "id": "f563e32f",
   "metadata": {},
   "outputs": [],
   "source": [
    "# boxplot = df.boxplot(column=['Site'])\n",
    "# columns=['Col1', 'Col2', 'Col3', 'Col4'])\n",
    "# plt.boxplot(x=df_Fi)\n",
    "# plt.semilogy(base = 10)"
   ]
  },
  {
   "cell_type": "code",
   "execution_count": 322,
   "id": "5a940d36",
   "metadata": {},
   "outputs": [],
   "source": [
    "# plt.boxplot(x=df_KAZ)\n",
    "\n",
    "# plt.semilogy(base = 10)"
   ]
  },
  {
   "cell_type": "code",
   "execution_count": 323,
   "id": "4241d7f6",
   "metadata": {},
   "outputs": [],
   "source": [
    "# plt.boxplot(x=df_KB)\n",
    "\n",
    "# plt.semilogy(base = 10)"
   ]
  },
  {
   "cell_type": "code",
   "execution_count": 324,
   "id": "6ec06101",
   "metadata": {},
   "outputs": [],
   "source": [
    "# plt.boxplot(x=df_SO)\n",
    "# plt.semilogy(base = 10)"
   ]
  },
  {
   "cell_type": "code",
   "execution_count": 659,
   "id": "313115cc",
   "metadata": {},
   "outputs": [
    {
     "data": {
      "image/png": "[encoded data removed]",
      "text/plain": [
       "<Figure size 432x288 with 1 Axes>"
      ]
     },
     "metadata": {
      "needs_background": "light"
     },
     "output_type": "display_data"
    }
   ],
   "source": [
    "###Plotting the various sites with abundance\n",
    "box_plot_dict = {'Fi': df_Fi, 'KAZ': df_KAZ, 'KB': df_KB, 'SO': df_SO}\n",
    "fig, ax = plt.subplots()\n",
    "bp = ax.boxplot(box_plot_dict.values(), patch_artist=True)\n",
    "for box in bp['boxes']:\n",
    "    box.set(facecolor = 'grey' )\n",
    "ax.set_xticklabels(box_plot_dict.keys())\n",
    "ax.set_facecolor('lightgrey')\n",
    "plt.semilogy(base = 10)\n",
    "plt.title('Box plot showing qPCR estimates of bacterial abundance on fire salamander skin')\n",
    "plt.xlabel('site')\n",
    "plt.ylabel('log bacterial abundance')\n",
    "plt.show()"
   ]
  },
  {
   "cell_type": "markdown",
   "id": "96328974",
   "metadata": {},
   "source": [
    "# Figure 3B of Abundance of bacteria on Bsal Expose"
   ]
  },
  {
   "cell_type": "code",
   "execution_count": 326,
   "id": "f107df38",
   "metadata": {},
   "outputs": [
    {
     "data": {
      "text/html": [
       "<div>\n",
       "<style scoped>\n",
       "    .dataframe tbody tr th:only-of-type {\n",
       "        vertical-align: middle;\n",
       "    }\n",
       "\n",
       "    .dataframe tbody tr th {\n",
       "        vertical-align: top;\n",
       "    }\n",
       "\n",
       "    .dataframe thead th {\n",
       "        text-align: right;\n",
       "    }\n",
       "</style>\n",
       "<table border=\"1\" class=\"dataframe\">\n",
       "  <thead>\n",
       "    <tr style=\"text-align: right;\">\n",
       "      <th></th>\n",
       "      <th>Bacterial abundance and density estimates associated with salamanders in the bacterial addition experiment</th>\n",
       "      <th>Unnamed: 1</th>\n",
       "      <th>Unnamed: 2</th>\n",
       "      <th>Unnamed: 3</th>\n",
       "      <th>Unnamed: 4</th>\n",
       "      <th>Unnamed: 5</th>\n",
       "      <th>Unnamed: 6</th>\n",
       "      <th>Unnamed: 7</th>\n",
       "      <th>Unnamed: 8</th>\n",
       "      <th>Unnamed: 9</th>\n",
       "      <th>Unnamed: 10</th>\n",
       "      <th>Unnamed: 11</th>\n",
       "      <th>Unnamed: 12</th>\n",
       "      <th>Unnamed: 13</th>\n",
       "      <th>Unnamed: 14</th>\n",
       "      <th>Unnamed: 15</th>\n",
       "      <th>Unnamed: 16</th>\n",
       "    </tr>\n",
       "  </thead>\n",
       "  <tbody>\n",
       "    <tr>\n",
       "      <th>0</th>\n",
       "      <td>NaN</td>\n",
       "      <td>NaN</td>\n",
       "      <td>NaN</td>\n",
       "      <td>NaN</td>\n",
       "      <td>NaN</td>\n",
       "      <td>before start experiment</td>\n",
       "      <td>NaN</td>\n",
       "      <td>after 3 days of bacterial treatments</td>\n",
       "      <td>NaN</td>\n",
       "      <td>7 days after Bsal infection</td>\n",
       "      <td>NaN</td>\n",
       "      <td>14 days after Bsal infection</td>\n",
       "      <td>NaN</td>\n",
       "      <td>21 days after Bsal infection</td>\n",
       "      <td>NaN</td>\n",
       "      <td>28days after Bsal infection</td>\n",
       "      <td>NaN</td>\n",
       "    </tr>\n",
       "    <tr>\n",
       "      <th>1</th>\n",
       "      <td>Treatment</td>\n",
       "      <td>Individual ID</td>\n",
       "      <td>Trunk Length (mm)</td>\n",
       "      <td>Trunk width (mm)</td>\n",
       "      <td>Trunk Surface Area (mm2)</td>\n",
       "      <td>total bacteria/swab</td>\n",
       "      <td>total bacteria/mm^2</td>\n",
       "      <td>total bacteria/swab</td>\n",
       "      <td>total bacteria/mm^2</td>\n",
       "      <td>total bacteria/swab</td>\n",
       "      <td>total bacteria/mm^2</td>\n",
       "      <td>total bacteria/swab</td>\n",
       "      <td>total bacteria/mm^2</td>\n",
       "      <td>total bacteria/swab</td>\n",
       "      <td>total bacteria/mm^2</td>\n",
       "      <td>total bacteria/swab</td>\n",
       "      <td>total bacteria/mm^2</td>\n",
       "    </tr>\n",
       "    <tr>\n",
       "      <th>2</th>\n",
       "      <td>Steno</td>\n",
       "      <td>1</td>\n",
       "      <td>30</td>\n",
       "      <td>11</td>\n",
       "      <td>330</td>\n",
       "      <td>571000</td>\n",
       "      <td>1730.30303</td>\n",
       "      <td>17500000</td>\n",
       "      <td>53030.30303</td>\n",
       "      <td>2670000</td>\n",
       "      <td>8090.909091</td>\n",
       "      <td>3780000</td>\n",
       "      <td>11454.545455</td>\n",
       "      <td>2760000</td>\n",
       "      <td>8363.636364</td>\n",
       "      <td>1100000</td>\n",
       "      <td>3333.333333</td>\n",
       "    </tr>\n",
       "    <tr>\n",
       "      <th>3</th>\n",
       "      <td>Steno</td>\n",
       "      <td>2</td>\n",
       "      <td>33</td>\n",
       "      <td>9</td>\n",
       "      <td>297</td>\n",
       "      <td>670000</td>\n",
       "      <td>2255.892256</td>\n",
       "      <td>536000</td>\n",
       "      <td>1804.713805</td>\n",
       "      <td>8950000</td>\n",
       "      <td>30134.680135</td>\n",
       "      <td>8130000</td>\n",
       "      <td>27373.737374</td>\n",
       "      <td>13300000</td>\n",
       "      <td>44781.144781</td>\n",
       "      <td>5950000</td>\n",
       "      <td>20033.670034</td>\n",
       "    </tr>\n",
       "    <tr>\n",
       "      <th>4</th>\n",
       "      <td>Steno</td>\n",
       "      <td>3</td>\n",
       "      <td>29</td>\n",
       "      <td>8</td>\n",
       "      <td>232</td>\n",
       "      <td>84800</td>\n",
       "      <td>365.517241</td>\n",
       "      <td>1270000</td>\n",
       "      <td>5474.137931</td>\n",
       "      <td>2010000</td>\n",
       "      <td>8663.793103</td>\n",
       "      <td>1120000</td>\n",
       "      <td>4827.586207</td>\n",
       "      <td>6500000</td>\n",
       "      <td>28017.241379</td>\n",
       "      <td>3190000</td>\n",
       "      <td>13750</td>\n",
       "    </tr>\n",
       "  </tbody>\n",
       "</table>\n",
       "</div>"
      ],
      "text/plain": [
       "  Bacterial abundance and density estimates associated with salamanders in the bacterial addition experiment   \\\n",
       "0                                                NaN                                                            \n",
       "1                                          Treatment                                                            \n",
       "2                                              Steno                                                            \n",
       "3                                              Steno                                                            \n",
       "4                                              Steno                                                            \n",
       "\n",
       "       Unnamed: 1         Unnamed: 2        Unnamed: 3  \\\n",
       "0             NaN                NaN               NaN   \n",
       "1   Individual ID  Trunk Length (mm)  Trunk width (mm)   \n",
       "2               1                 30                11   \n",
       "3               2                 33                 9   \n",
       "4               3                 29                 8   \n",
       "\n",
       "                 Unnamed: 4               Unnamed: 5           Unnamed: 6  \\\n",
       "0                       NaN  before start experiment                  NaN   \n",
       "1  Trunk Surface Area (mm2)      total bacteria/swab  total bacteria/mm^2   \n",
       "2                       330                   571000           1730.30303   \n",
       "3                       297                   670000          2255.892256   \n",
       "4                       232                    84800           365.517241   \n",
       "\n",
       "                              Unnamed: 7           Unnamed: 8  \\\n",
       "0  after 3 days of bacterial treatments                   NaN   \n",
       "1                    total bacteria/swab  total bacteria/mm^2   \n",
       "2                               17500000          53030.30303   \n",
       "3                                 536000          1804.713805   \n",
       "4                                1270000          5474.137931   \n",
       "\n",
       "                    Unnamed: 9          Unnamed: 10  \\\n",
       "0  7 days after Bsal infection                  NaN   \n",
       "1          total bacteria/swab  total bacteria/mm^2   \n",
       "2                      2670000          8090.909091   \n",
       "3                      8950000         30134.680135   \n",
       "4                      2010000          8663.793103   \n",
       "\n",
       "                    Unnamed: 11          Unnamed: 12  \\\n",
       "0  14 days after Bsal infection                  NaN   \n",
       "1           total bacteria/swab  total bacteria/mm^2   \n",
       "2                       3780000         11454.545455   \n",
       "3                       8130000         27373.737374   \n",
       "4                       1120000          4827.586207   \n",
       "\n",
       "                    Unnamed: 13          Unnamed: 14  \\\n",
       "0  21 days after Bsal infection                  NaN   \n",
       "1           total bacteria/swab  total bacteria/mm^2   \n",
       "2                       2760000          8363.636364   \n",
       "3                      13300000         44781.144781   \n",
       "4                       6500000         28017.241379   \n",
       "\n",
       "                   Unnamed: 15          Unnamed: 16  \n",
       "0  28days after Bsal infection                  NaN  \n",
       "1          total bacteria/swab  total bacteria/mm^2  \n",
       "2                      1100000          3333.333333  \n",
       "3                      5950000         20033.670034  \n",
       "4                      3190000                13750  "
      ]
     },
     "execution_count": 326,
     "metadata": {},
     "output_type": "execute_result"
    }
   ],
   "source": [
    "##in this plot, i tried to find the Bacterial abundance and density estimates associated with salamanders in the bacterial addition experiment. \n",
    "\n",
    "df_new = pd.read_excel('SALAMANDER.xlsx', sheet_name='Bacterial Abundance (Exp2)') #load the data \n",
    "# df_new.head()"
   ]
  },
  {
   "cell_type": "code",
   "execution_count": 327,
   "id": "137faf7f",
   "metadata": {},
   "outputs": [],
   "source": [
    "# df_new.drop([0,1])"
   ]
  },
  {
   "cell_type": "code",
   "execution_count": 328,
   "id": "788cd362",
   "metadata": {},
   "outputs": [],
   "source": [
    "df_new.columns = [\"Treatment\", \"Individual ID\", \"Trunk Length (mm)\", \"Trunk width (mm)\", \"Trunk Surface Area (mm2)\", \"total bacteria/swab\", \"total bacteria/mm^2\", \"total bacteria/swab\", \"total bacteria/mm^2\", \"total bacteria/swab\", \"total bacteria/mm^2\", \"total bacteria/swab\", \"total bacteria/mm^2\", \"total bacteria/swab\", \"total bacteria/mm^2\", \"total bacteria/swab\", \"total bacteria/mm^2\"]"
   ]
  },
  {
   "cell_type": "code",
   "execution_count": 410,
   "id": "1ae151a5",
   "metadata": {},
   "outputs": [
    {
     "data": {
      "text/html": [
       "<div>\n",
       "<style scoped>\n",
       "    .dataframe tbody tr th:only-of-type {\n",
       "        vertical-align: middle;\n",
       "    }\n",
       "\n",
       "    .dataframe tbody tr th {\n",
       "        vertical-align: top;\n",
       "    }\n",
       "\n",
       "    .dataframe thead th {\n",
       "        text-align: right;\n",
       "    }\n",
       "</style>\n",
       "<table border=\"1\" class=\"dataframe\">\n",
       "  <thead>\n",
       "    <tr style=\"text-align: right;\">\n",
       "      <th></th>\n",
       "      <th>Treatment</th>\n",
       "      <th>Individual ID</th>\n",
       "      <th>Trunk Length (mm)</th>\n",
       "      <th>Trunk width (mm)</th>\n",
       "      <th>Trunk Surface Area (mm2)</th>\n",
       "      <th>total bacteria/swab</th>\n",
       "      <th>total bacteria/mm^2</th>\n",
       "      <th>total bacteria/swab</th>\n",
       "      <th>total bacteria/mm^2</th>\n",
       "      <th>total bacteria/swab</th>\n",
       "      <th>total bacteria/mm^2</th>\n",
       "      <th>total bacteria/swab</th>\n",
       "      <th>total bacteria/mm^2</th>\n",
       "      <th>total bacteria/swab</th>\n",
       "      <th>total bacteria/mm^2</th>\n",
       "      <th>total bacteria/swab</th>\n",
       "      <th>total bacteria/mm^2</th>\n",
       "    </tr>\n",
       "  </thead>\n",
       "  <tbody>\n",
       "    <tr>\n",
       "      <th>2</th>\n",
       "      <td>Steno</td>\n",
       "      <td>1</td>\n",
       "      <td>30</td>\n",
       "      <td>11</td>\n",
       "      <td>330</td>\n",
       "      <td>571000</td>\n",
       "      <td>1730.30303</td>\n",
       "      <td>17500000</td>\n",
       "      <td>53030.30303</td>\n",
       "      <td>2670000</td>\n",
       "      <td>8090.909091</td>\n",
       "      <td>3780000</td>\n",
       "      <td>11454.545455</td>\n",
       "      <td>2760000</td>\n",
       "      <td>8363.636364</td>\n",
       "      <td>1100000</td>\n",
       "      <td>3333.333333</td>\n",
       "    </tr>\n",
       "    <tr>\n",
       "      <th>3</th>\n",
       "      <td>Steno</td>\n",
       "      <td>2</td>\n",
       "      <td>33</td>\n",
       "      <td>9</td>\n",
       "      <td>297</td>\n",
       "      <td>670000</td>\n",
       "      <td>2255.892256</td>\n",
       "      <td>536000</td>\n",
       "      <td>1804.713805</td>\n",
       "      <td>8950000</td>\n",
       "      <td>30134.680135</td>\n",
       "      <td>8130000</td>\n",
       "      <td>27373.737374</td>\n",
       "      <td>13300000</td>\n",
       "      <td>44781.144781</td>\n",
       "      <td>5950000</td>\n",
       "      <td>20033.670034</td>\n",
       "    </tr>\n",
       "    <tr>\n",
       "      <th>4</th>\n",
       "      <td>Steno</td>\n",
       "      <td>3</td>\n",
       "      <td>29</td>\n",
       "      <td>8</td>\n",
       "      <td>232</td>\n",
       "      <td>84800</td>\n",
       "      <td>365.517241</td>\n",
       "      <td>1270000</td>\n",
       "      <td>5474.137931</td>\n",
       "      <td>2010000</td>\n",
       "      <td>8663.793103</td>\n",
       "      <td>1120000</td>\n",
       "      <td>4827.586207</td>\n",
       "      <td>6500000</td>\n",
       "      <td>28017.241379</td>\n",
       "      <td>3190000</td>\n",
       "      <td>13750</td>\n",
       "    </tr>\n",
       "    <tr>\n",
       "      <th>5</th>\n",
       "      <td>Steno</td>\n",
       "      <td>4</td>\n",
       "      <td>32</td>\n",
       "      <td>9</td>\n",
       "      <td>288</td>\n",
       "      <td>522000</td>\n",
       "      <td>1812.5</td>\n",
       "      <td>1690000</td>\n",
       "      <td>5868.055556</td>\n",
       "      <td>2930000</td>\n",
       "      <td>10173.611111</td>\n",
       "      <td>6770000</td>\n",
       "      <td>23506.944444</td>\n",
       "      <td>2490000</td>\n",
       "      <td>8645.833333</td>\n",
       "      <td>2860000</td>\n",
       "      <td>9930.555556</td>\n",
       "    </tr>\n",
       "    <tr>\n",
       "      <th>6</th>\n",
       "      <td>Agar</td>\n",
       "      <td>5</td>\n",
       "      <td>27</td>\n",
       "      <td>8</td>\n",
       "      <td>216</td>\n",
       "      <td>131000</td>\n",
       "      <td>606.481481</td>\n",
       "      <td>2630000</td>\n",
       "      <td>12175.925926</td>\n",
       "      <td>5960000</td>\n",
       "      <td>27592.592593</td>\n",
       "      <td>11600000</td>\n",
       "      <td>53703.703704</td>\n",
       "      <td>1810000</td>\n",
       "      <td>8379.62963</td>\n",
       "      <td>4210000</td>\n",
       "      <td>19490.740741</td>\n",
       "    </tr>\n",
       "    <tr>\n",
       "      <th>7</th>\n",
       "      <td>Agar</td>\n",
       "      <td>6</td>\n",
       "      <td>29</td>\n",
       "      <td>8</td>\n",
       "      <td>232</td>\n",
       "      <td>506000</td>\n",
       "      <td>2181.034483</td>\n",
       "      <td>2860000</td>\n",
       "      <td>12327.586207</td>\n",
       "      <td>14800000</td>\n",
       "      <td>63793.103448</td>\n",
       "      <td>9780000</td>\n",
       "      <td>42155.172414</td>\n",
       "      <td>651000</td>\n",
       "      <td>2806.034483</td>\n",
       "      <td>7810000</td>\n",
       "      <td>33663.793103</td>\n",
       "    </tr>\n",
       "    <tr>\n",
       "      <th>8</th>\n",
       "      <td>Steno</td>\n",
       "      <td>7</td>\n",
       "      <td>28</td>\n",
       "      <td>7</td>\n",
       "      <td>196</td>\n",
       "      <td>386000</td>\n",
       "      <td>1969.387755</td>\n",
       "      <td>1070000</td>\n",
       "      <td>5459.183673</td>\n",
       "      <td>1630000</td>\n",
       "      <td>8316.326531</td>\n",
       "      <td>9580000</td>\n",
       "      <td>48877.55102</td>\n",
       "      <td>4000000</td>\n",
       "      <td>20408.163265</td>\n",
       "      <td>8280000</td>\n",
       "      <td>42244.897959</td>\n",
       "    </tr>\n",
       "    <tr>\n",
       "      <th>9</th>\n",
       "      <td>Pseudo</td>\n",
       "      <td>8</td>\n",
       "      <td>30</td>\n",
       "      <td>9</td>\n",
       "      <td>270</td>\n",
       "      <td>260000</td>\n",
       "      <td>962.962963</td>\n",
       "      <td>1200000</td>\n",
       "      <td>4444.444444</td>\n",
       "      <td>1400000</td>\n",
       "      <td>5185.185185</td>\n",
       "      <td>5490000</td>\n",
       "      <td>20333.333333</td>\n",
       "      <td>7450000</td>\n",
       "      <td>27592.592593</td>\n",
       "      <td>1430000</td>\n",
       "      <td>5296.296296</td>\n",
       "    </tr>\n",
       "    <tr>\n",
       "      <th>10</th>\n",
       "      <td>Agar</td>\n",
       "      <td>9</td>\n",
       "      <td>28</td>\n",
       "      <td>7</td>\n",
       "      <td>196</td>\n",
       "      <td>275000</td>\n",
       "      <td>1403.061224</td>\n",
       "      <td>3150000</td>\n",
       "      <td>16071.428571</td>\n",
       "      <td>17200000</td>\n",
       "      <td>87755.102041</td>\n",
       "      <td>6730000</td>\n",
       "      <td>34336.734694</td>\n",
       "      <td>2730000</td>\n",
       "      <td>13928.571429</td>\n",
       "      <td>7410000</td>\n",
       "      <td>37806.122449</td>\n",
       "    </tr>\n",
       "    <tr>\n",
       "      <th>11</th>\n",
       "      <td>Pseudo</td>\n",
       "      <td>11</td>\n",
       "      <td>29</td>\n",
       "      <td>8</td>\n",
       "      <td>232</td>\n",
       "      <td>258000</td>\n",
       "      <td>1112.068966</td>\n",
       "      <td>3150000</td>\n",
       "      <td>13577.586207</td>\n",
       "      <td>1340000</td>\n",
       "      <td>5775.862069</td>\n",
       "      <td>5500000</td>\n",
       "      <td>23706.896552</td>\n",
       "      <td>2650000</td>\n",
       "      <td>11422.413793</td>\n",
       "      <td>2130000</td>\n",
       "      <td>9181.034483</td>\n",
       "    </tr>\n",
       "    <tr>\n",
       "      <th>12</th>\n",
       "      <td>Pseudo</td>\n",
       "      <td>12</td>\n",
       "      <td>27</td>\n",
       "      <td>8</td>\n",
       "      <td>216</td>\n",
       "      <td>859000</td>\n",
       "      <td>3976.851852</td>\n",
       "      <td>2340000</td>\n",
       "      <td>10833.333333</td>\n",
       "      <td>3000000</td>\n",
       "      <td>13888.888889</td>\n",
       "      <td>5900000</td>\n",
       "      <td>27314.814815</td>\n",
       "      <td>222</td>\n",
       "      <td>1.027778</td>\n",
       "      <td>6330000</td>\n",
       "      <td>29305.555556</td>\n",
       "    </tr>\n",
       "    <tr>\n",
       "      <th>13</th>\n",
       "      <td>Agar</td>\n",
       "      <td>14</td>\n",
       "      <td>26</td>\n",
       "      <td>7</td>\n",
       "      <td>182</td>\n",
       "      <td>226000</td>\n",
       "      <td>1241.758242</td>\n",
       "      <td>1210000</td>\n",
       "      <td>6648.351648</td>\n",
       "      <td>5140000</td>\n",
       "      <td>28241.758242</td>\n",
       "      <td>12200000</td>\n",
       "      <td>67032.967033</td>\n",
       "      <td>3060000</td>\n",
       "      <td>16813.186813</td>\n",
       "      <td>21500000</td>\n",
       "      <td>118131.868132</td>\n",
       "    </tr>\n",
       "    <tr>\n",
       "      <th>14</th>\n",
       "      <td>Steno</td>\n",
       "      <td>15</td>\n",
       "      <td>31</td>\n",
       "      <td>9</td>\n",
       "      <td>279</td>\n",
       "      <td>329000</td>\n",
       "      <td>1179.21147</td>\n",
       "      <td>342000</td>\n",
       "      <td>1225.806452</td>\n",
       "      <td>901000</td>\n",
       "      <td>3229.390681</td>\n",
       "      <td>15700000</td>\n",
       "      <td>56272.401434</td>\n",
       "      <td>4710000</td>\n",
       "      <td>16881.72043</td>\n",
       "      <td>5800000</td>\n",
       "      <td>20788.530466</td>\n",
       "    </tr>\n",
       "    <tr>\n",
       "      <th>15</th>\n",
       "      <td>Pseudo</td>\n",
       "      <td>16</td>\n",
       "      <td>24</td>\n",
       "      <td>8</td>\n",
       "      <td>192</td>\n",
       "      <td>76100</td>\n",
       "      <td>396.354167</td>\n",
       "      <td>463000</td>\n",
       "      <td>2411.458333</td>\n",
       "      <td>295000</td>\n",
       "      <td>1536.458333</td>\n",
       "      <td>4000000</td>\n",
       "      <td>20833.333333</td>\n",
       "      <td>4950000</td>\n",
       "      <td>25781.25</td>\n",
       "      <td>1880000</td>\n",
       "      <td>9791.666667</td>\n",
       "    </tr>\n",
       "    <tr>\n",
       "      <th>16</th>\n",
       "      <td>Control</td>\n",
       "      <td>17</td>\n",
       "      <td>24</td>\n",
       "      <td>8</td>\n",
       "      <td>192</td>\n",
       "      <td>174000</td>\n",
       "      <td>906.25</td>\n",
       "      <td>43500</td>\n",
       "      <td>226.5625</td>\n",
       "      <td>520000</td>\n",
       "      <td>2708.333333</td>\n",
       "      <td>361000</td>\n",
       "      <td>1880.208333</td>\n",
       "      <td>12000000</td>\n",
       "      <td>62500</td>\n",
       "      <td>8600000</td>\n",
       "      <td>44791.666667</td>\n",
       "    </tr>\n",
       "    <tr>\n",
       "      <th>17</th>\n",
       "      <td>Pseudo</td>\n",
       "      <td>18</td>\n",
       "      <td>31</td>\n",
       "      <td>8</td>\n",
       "      <td>248</td>\n",
       "      <td>146000</td>\n",
       "      <td>588.709677</td>\n",
       "      <td>131000</td>\n",
       "      <td>528.225806</td>\n",
       "      <td>2100000</td>\n",
       "      <td>8467.741935</td>\n",
       "      <td>3280000</td>\n",
       "      <td>13225.806452</td>\n",
       "      <td>1430000</td>\n",
       "      <td>5766.129032</td>\n",
       "      <td>897000</td>\n",
       "      <td>3616.935484</td>\n",
       "    </tr>\n",
       "    <tr>\n",
       "      <th>18</th>\n",
       "      <td>Pseudo</td>\n",
       "      <td>19</td>\n",
       "      <td>30</td>\n",
       "      <td>8</td>\n",
       "      <td>240</td>\n",
       "      <td>194000</td>\n",
       "      <td>808.333333</td>\n",
       "      <td>335000</td>\n",
       "      <td>1395.833333</td>\n",
       "      <td>506000</td>\n",
       "      <td>2108.333333</td>\n",
       "      <td>1810000</td>\n",
       "      <td>7541.666667</td>\n",
       "      <td>1570000</td>\n",
       "      <td>6541.666667</td>\n",
       "      <td>1880000</td>\n",
       "      <td>7833.333333</td>\n",
       "    </tr>\n",
       "    <tr>\n",
       "      <th>19</th>\n",
       "      <td>Agar</td>\n",
       "      <td>20</td>\n",
       "      <td>29</td>\n",
       "      <td>8</td>\n",
       "      <td>232</td>\n",
       "      <td>94100</td>\n",
       "      <td>405.603448</td>\n",
       "      <td>461000</td>\n",
       "      <td>1987.068966</td>\n",
       "      <td>1240000</td>\n",
       "      <td>5344.827586</td>\n",
       "      <td>2050000</td>\n",
       "      <td>8836.206897</td>\n",
       "      <td>6290000</td>\n",
       "      <td>27112.068966</td>\n",
       "      <td>2990000</td>\n",
       "      <td>12887.931034</td>\n",
       "    </tr>\n",
       "    <tr>\n",
       "      <th>20</th>\n",
       "      <td>Agar</td>\n",
       "      <td>21</td>\n",
       "      <td>29</td>\n",
       "      <td>8</td>\n",
       "      <td>232</td>\n",
       "      <td>399000</td>\n",
       "      <td>1719.827586</td>\n",
       "      <td>994000</td>\n",
       "      <td>4284.482759</td>\n",
       "      <td>1510000</td>\n",
       "      <td>6508.62069</td>\n",
       "      <td>4740000</td>\n",
       "      <td>20431.034483</td>\n",
       "      <td>2320000</td>\n",
       "      <td>10000</td>\n",
       "      <td>2310000</td>\n",
       "      <td>9956.896552</td>\n",
       "    </tr>\n",
       "    <tr>\n",
       "      <th>21</th>\n",
       "      <td>Control</td>\n",
       "      <td>23</td>\n",
       "      <td>25</td>\n",
       "      <td>8</td>\n",
       "      <td>200</td>\n",
       "      <td>318000</td>\n",
       "      <td>1590</td>\n",
       "      <td>55600</td>\n",
       "      <td>278</td>\n",
       "      <td>598000</td>\n",
       "      <td>2990</td>\n",
       "      <td>394000</td>\n",
       "      <td>1970</td>\n",
       "      <td>1430000</td>\n",
       "      <td>7150</td>\n",
       "      <td>746000</td>\n",
       "      <td>3730</td>\n",
       "    </tr>\n",
       "    <tr>\n",
       "      <th>22</th>\n",
       "      <td>Steno</td>\n",
       "      <td>24</td>\n",
       "      <td>26</td>\n",
       "      <td>7</td>\n",
       "      <td>182</td>\n",
       "      <td>69900</td>\n",
       "      <td>384.065934</td>\n",
       "      <td>339000</td>\n",
       "      <td>1862.637363</td>\n",
       "      <td>254000</td>\n",
       "      <td>1395.604396</td>\n",
       "      <td>766000</td>\n",
       "      <td>4208.791209</td>\n",
       "      <td>2330000</td>\n",
       "      <td>12802.197802</td>\n",
       "      <td>5370000</td>\n",
       "      <td>29505.494505</td>\n",
       "    </tr>\n",
       "    <tr>\n",
       "      <th>23</th>\n",
       "      <td>Control</td>\n",
       "      <td>25</td>\n",
       "      <td>31</td>\n",
       "      <td>9</td>\n",
       "      <td>279</td>\n",
       "      <td>522000</td>\n",
       "      <td>1870.967742</td>\n",
       "      <td>114</td>\n",
       "      <td>0.408602</td>\n",
       "      <td>738</td>\n",
       "      <td>2.645161</td>\n",
       "      <td>3320000</td>\n",
       "      <td>11899.641577</td>\n",
       "      <td>8740000</td>\n",
       "      <td>31326.164875</td>\n",
       "      <td>3230000</td>\n",
       "      <td>11577.060932</td>\n",
       "    </tr>\n",
       "    <tr>\n",
       "      <th>24</th>\n",
       "      <td>Agar</td>\n",
       "      <td>26</td>\n",
       "      <td>29</td>\n",
       "      <td>8</td>\n",
       "      <td>232</td>\n",
       "      <td>136000</td>\n",
       "      <td>586.206897</td>\n",
       "      <td>202000</td>\n",
       "      <td>870.689655</td>\n",
       "      <td>1570000</td>\n",
       "      <td>6767.241379</td>\n",
       "      <td>677000</td>\n",
       "      <td>2918.103448</td>\n",
       "      <td>6450000</td>\n",
       "      <td>27801.724138</td>\n",
       "      <td>1950000</td>\n",
       "      <td>8405.172414</td>\n",
       "    </tr>\n",
       "    <tr>\n",
       "      <th>25</th>\n",
       "      <td>Pseudo</td>\n",
       "      <td>27</td>\n",
       "      <td>25</td>\n",
       "      <td>7</td>\n",
       "      <td>175</td>\n",
       "      <td>408000</td>\n",
       "      <td>2331.428571</td>\n",
       "      <td>584000</td>\n",
       "      <td>3337.142857</td>\n",
       "      <td>2240000</td>\n",
       "      <td>12800</td>\n",
       "      <td>3490000</td>\n",
       "      <td>19942.857143</td>\n",
       "      <td>1700000</td>\n",
       "      <td>9714.285714</td>\n",
       "      <td>1740000</td>\n",
       "      <td>9942.857143</td>\n",
       "    </tr>\n",
       "    <tr>\n",
       "      <th>26</th>\n",
       "      <td>Control</td>\n",
       "      <td>28</td>\n",
       "      <td>28</td>\n",
       "      <td>7</td>\n",
       "      <td>196</td>\n",
       "      <td>13000</td>\n",
       "      <td>66.326531</td>\n",
       "      <td>77900</td>\n",
       "      <td>397.44898</td>\n",
       "      <td>58900</td>\n",
       "      <td>300.510204</td>\n",
       "      <td>130000</td>\n",
       "      <td>1016</td>\n",
       "      <td>184000</td>\n",
       "      <td>938.77551</td>\n",
       "      <td>1170000</td>\n",
       "      <td>5969.387755</td>\n",
       "    </tr>\n",
       "    <tr>\n",
       "      <th>27</th>\n",
       "      <td>Control</td>\n",
       "      <td>29</td>\n",
       "      <td>31</td>\n",
       "      <td>11</td>\n",
       "      <td>341</td>\n",
       "      <td>138000</td>\n",
       "      <td>404.692082</td>\n",
       "      <td>65300</td>\n",
       "      <td>191.495601</td>\n",
       "      <td>80400</td>\n",
       "      <td>235.777126</td>\n",
       "      <td>138000</td>\n",
       "      <td>1016</td>\n",
       "      <td>1350000</td>\n",
       "      <td>3958.944282</td>\n",
       "      <td>1010000</td>\n",
       "      <td>2961.876833</td>\n",
       "    </tr>\n",
       "  </tbody>\n",
       "</table>\n",
       "</div>"
      ],
      "text/plain": [
       "   Treatment Individual ID Trunk Length (mm) Trunk width (mm)  \\\n",
       "2      Steno             1                30               11   \n",
       "3      Steno             2                33                9   \n",
       "4      Steno             3                29                8   \n",
       "5      Steno             4                32                9   \n",
       "6       Agar             5                27                8   \n",
       "7       Agar             6                29                8   \n",
       "8      Steno             7                28                7   \n",
       "9     Pseudo             8                30                9   \n",
       "10      Agar             9                28                7   \n",
       "11    Pseudo            11                29                8   \n",
       "12    Pseudo            12                27                8   \n",
       "13      Agar            14                26                7   \n",
       "14     Steno            15                31                9   \n",
       "15    Pseudo            16                24                8   \n",
       "16   Control            17                24                8   \n",
       "17    Pseudo            18                31                8   \n",
       "18    Pseudo            19                30                8   \n",
       "19      Agar            20                29                8   \n",
       "20      Agar            21                29                8   \n",
       "21   Control            23                25                8   \n",
       "22     Steno            24                26                7   \n",
       "23   Control            25                31                9   \n",
       "24      Agar            26                29                8   \n",
       "25    Pseudo            27                25                7   \n",
       "26   Control            28                28                7   \n",
       "27   Control            29                31               11   \n",
       "\n",
       "   Trunk Surface Area (mm2) total bacteria/swab total bacteria/mm^2  \\\n",
       "2                       330              571000          1730.30303   \n",
       "3                       297              670000         2255.892256   \n",
       "4                       232               84800          365.517241   \n",
       "5                       288              522000              1812.5   \n",
       "6                       216              131000          606.481481   \n",
       "7                       232              506000         2181.034483   \n",
       "8                       196              386000         1969.387755   \n",
       "9                       270              260000          962.962963   \n",
       "10                      196              275000         1403.061224   \n",
       "11                      232              258000         1112.068966   \n",
       "12                      216              859000         3976.851852   \n",
       "13                      182              226000         1241.758242   \n",
       "14                      279              329000          1179.21147   \n",
       "15                      192               76100          396.354167   \n",
       "16                      192              174000              906.25   \n",
       "17                      248              146000          588.709677   \n",
       "18                      240              194000          808.333333   \n",
       "19                      232               94100          405.603448   \n",
       "20                      232              399000         1719.827586   \n",
       "21                      200              318000                1590   \n",
       "22                      182               69900          384.065934   \n",
       "23                      279              522000         1870.967742   \n",
       "24                      232              136000          586.206897   \n",
       "25                      175              408000         2331.428571   \n",
       "26                      196               13000           66.326531   \n",
       "27                      341              138000          404.692082   \n",
       "\n",
       "   total bacteria/swab total bacteria/mm^2 total bacteria/swab  \\\n",
       "2             17500000         53030.30303             2670000   \n",
       "3               536000         1804.713805             8950000   \n",
       "4              1270000         5474.137931             2010000   \n",
       "5              1690000         5868.055556             2930000   \n",
       "6              2630000        12175.925926             5960000   \n",
       "7              2860000        12327.586207            14800000   \n",
       "8              1070000         5459.183673             1630000   \n",
       "9              1200000         4444.444444             1400000   \n",
       "10             3150000        16071.428571            17200000   \n",
       "11             3150000        13577.586207             1340000   \n",
       "12             2340000        10833.333333             3000000   \n",
       "13             1210000         6648.351648             5140000   \n",
       "14              342000         1225.806452              901000   \n",
       "15              463000         2411.458333              295000   \n",
       "16               43500            226.5625              520000   \n",
       "17              131000          528.225806             2100000   \n",
       "18              335000         1395.833333              506000   \n",
       "19              461000         1987.068966             1240000   \n",
       "20              994000         4284.482759             1510000   \n",
       "21               55600                 278              598000   \n",
       "22              339000         1862.637363              254000   \n",
       "23                 114            0.408602                 738   \n",
       "24              202000          870.689655             1570000   \n",
       "25              584000         3337.142857             2240000   \n",
       "26               77900           397.44898               58900   \n",
       "27               65300          191.495601               80400   \n",
       "\n",
       "   total bacteria/mm^2 total bacteria/swab total bacteria/mm^2  \\\n",
       "2          8090.909091             3780000        11454.545455   \n",
       "3         30134.680135             8130000        27373.737374   \n",
       "4          8663.793103             1120000         4827.586207   \n",
       "5         10173.611111             6770000        23506.944444   \n",
       "6         27592.592593            11600000        53703.703704   \n",
       "7         63793.103448             9780000        42155.172414   \n",
       "8          8316.326531             9580000         48877.55102   \n",
       "9          5185.185185             5490000        20333.333333   \n",
       "10        87755.102041             6730000        34336.734694   \n",
       "11         5775.862069             5500000        23706.896552   \n",
       "12        13888.888889             5900000        27314.814815   \n",
       "13        28241.758242            12200000        67032.967033   \n",
       "14         3229.390681            15700000        56272.401434   \n",
       "15         1536.458333             4000000        20833.333333   \n",
       "16         2708.333333              361000         1880.208333   \n",
       "17         8467.741935             3280000        13225.806452   \n",
       "18         2108.333333             1810000         7541.666667   \n",
       "19         5344.827586             2050000         8836.206897   \n",
       "20          6508.62069             4740000        20431.034483   \n",
       "21                2990              394000                1970   \n",
       "22         1395.604396              766000         4208.791209   \n",
       "23            2.645161             3320000        11899.641577   \n",
       "24         6767.241379              677000         2918.103448   \n",
       "25               12800             3490000        19942.857143   \n",
       "26          300.510204              130000                1016   \n",
       "27          235.777126              138000                1016   \n",
       "\n",
       "   total bacteria/swab total bacteria/mm^2 total bacteria/swab  \\\n",
       "2              2760000         8363.636364             1100000   \n",
       "3             13300000        44781.144781             5950000   \n",
       "4              6500000        28017.241379             3190000   \n",
       "5              2490000         8645.833333             2860000   \n",
       "6              1810000          8379.62963             4210000   \n",
       "7               651000         2806.034483             7810000   \n",
       "8              4000000        20408.163265             8280000   \n",
       "9              7450000        27592.592593             1430000   \n",
       "10             2730000        13928.571429             7410000   \n",
       "11             2650000        11422.413793             2130000   \n",
       "12                 222            1.027778             6330000   \n",
       "13             3060000        16813.186813            21500000   \n",
       "14             4710000         16881.72043             5800000   \n",
       "15             4950000            25781.25             1880000   \n",
       "16            12000000               62500             8600000   \n",
       "17             1430000         5766.129032              897000   \n",
       "18             1570000         6541.666667             1880000   \n",
       "19             6290000        27112.068966             2990000   \n",
       "20             2320000               10000             2310000   \n",
       "21             1430000                7150              746000   \n",
       "22             2330000        12802.197802             5370000   \n",
       "23             8740000        31326.164875             3230000   \n",
       "24             6450000        27801.724138             1950000   \n",
       "25             1700000         9714.285714             1740000   \n",
       "26              184000           938.77551             1170000   \n",
       "27             1350000         3958.944282             1010000   \n",
       "\n",
       "   total bacteria/mm^2  \n",
       "2          3333.333333  \n",
       "3         20033.670034  \n",
       "4                13750  \n",
       "5          9930.555556  \n",
       "6         19490.740741  \n",
       "7         33663.793103  \n",
       "8         42244.897959  \n",
       "9          5296.296296  \n",
       "10        37806.122449  \n",
       "11         9181.034483  \n",
       "12        29305.555556  \n",
       "13       118131.868132  \n",
       "14        20788.530466  \n",
       "15         9791.666667  \n",
       "16        44791.666667  \n",
       "17         3616.935484  \n",
       "18         7833.333333  \n",
       "19        12887.931034  \n",
       "20         9956.896552  \n",
       "21                3730  \n",
       "22        29505.494505  \n",
       "23        11577.060932  \n",
       "24         8405.172414  \n",
       "25         9942.857143  \n",
       "26         5969.387755  \n",
       "27         2961.876833  "
      ]
     },
     "execution_count": 410,
     "metadata": {},
     "output_type": "execute_result"
    }
   ],
   "source": [
    "df_new.drop([0, 1]) #dropping the first 2 row \n"
   ]
  },
  {
   "cell_type": "code",
   "execution_count": 330,
   "id": "ce572856",
   "metadata": {},
   "outputs": [],
   "source": [
    "# df_new.columns[1]\n",
    "# df_new[\"Treatment\"]\n",
    "df_tbu = df_new.get(['Treatment','total bacteria/mm^2'])\n",
    "df_tbu = df_tbu.drop([0,1])"
   ]
  },
  {
   "cell_type": "code",
   "execution_count": 331,
   "id": "cbc45dc7",
   "metadata": {},
   "outputs": [],
   "source": [
    "df_tbu.columns = [\"Treatment\", \"0 days bacteria/mm^2\", \"3 days bacteria/mm^2\", \"7 days bacteria/mm^2\", \"14 days bacteria/mm^2\", \"21 days bacteria/mm^2\", \"28 days bacteria/mm^2\"]\n",
    "# df_tbu"
   ]
  },
  {
   "cell_type": "code",
   "execution_count": 332,
   "id": "18a6136d",
   "metadata": {},
   "outputs": [],
   "source": [
    "df_grouped = df_tbu.groupby(['Treatment'])"
   ]
  },
  {
   "cell_type": "code",
   "execution_count": 333,
   "id": "c4af9d85",
   "metadata": {},
   "outputs": [],
   "source": [
    "df_steno = df_grouped.get_group(\"Steno\")\n",
    "# print(df_steno)\n",
    "df_agar = df_grouped.get_group(\"Agar\")\n",
    "df_control = df_grouped.get_group(\"Control\")\n",
    "df_pseudo = df_grouped.get_group(\"Pseudo\")"
   ]
  },
  {
   "cell_type": "code",
   "execution_count": 334,
   "id": "a077a1f6",
   "metadata": {},
   "outputs": [
    {
     "data": {
      "text/plain": [
       "pandas.core.frame.DataFrame"
      ]
     },
     "execution_count": 334,
     "metadata": {},
     "output_type": "execute_result"
    }
   ],
   "source": [
    "type(df_steno)"
   ]
  },
  {
   "cell_type": "code",
   "execution_count": 335,
   "id": "fe53f112",
   "metadata": {},
   "outputs": [],
   "source": [
    "timeLine = [0, 3, 7, 14, 21, 28] # x axis"
   ]
  },
  {
   "cell_type": "code",
   "execution_count": 490,
   "id": "4de409b8",
   "metadata": {},
   "outputs": [
    {
     "data": {
      "image/png": "[encoded data removed]",
      "text/plain": [
       "<Figure size 432x288 with 1 Axes>"
      ]
     },
     "metadata": {},
     "output_type": "display_data"
    }
   ],
   "source": [
    "#take the mean of each sampls\n",
    "plt.plot(timeLine, [df_steno['0 days bacteria/mm^2'].mean(), df_steno['3 days bacteria/mm^2'].mean(), df_steno['7 days bacteria/mm^2'].mean(0), \n",
    "                     df_steno['14 days bacteria/mm^2'].mean(), df_steno['21 days bacteria/mm^2'].mean(), df_steno['28 days bacteria/mm^2'].mean()],marker='*', color='gold')\n",
    "\n",
    "plt.plot(timeLine, [df_agar['0 days bacteria/mm^2'].mean(), df_agar['3 days bacteria/mm^2'].mean(), df_agar['7 days bacteria/mm^2'].mean(0), \n",
    "                     df_agar['14 days bacteria/mm^2'].mean(), df_agar['21 days bacteria/mm^2'].mean(), df_agar['28 days bacteria/mm^2'].mean()],marker='*', color='darkgrey')\n",
    "plt.plot(timeLine, [df_control['0 days bacteria/mm^2'].mean(), df_control['3 days bacteria/mm^2'].mean(), df_control['7 days bacteria/mm^2'].mean(0), \n",
    "                     df_control['14 days bacteria/mm^2'].mean(), df_control['21 days bacteria/mm^2'].mean(), df_control['28 days bacteria/mm^2'].mean()],marker='*', color='dimgrey')\n",
    "plt.plot(timeLine, [df_pseudo['0 days bacteria/mm^2'].mean(), df_pseudo['3 days bacteria/mm^2'].mean(), df_pseudo['7 days bacteria/mm^2'].mean(0), \n",
    "                     df_pseudo['14 days bacteria/mm^2'].mean(), df_pseudo['21 days bacteria/mm^2'].mean(), df_pseudo['28 days bacteria/mm^2'].mean()],marker='*', color='red')\n",
    "plt.semilogy(base = 10)\n",
    "plt.xticks(np.arange(0, 30, 7))\n",
    "plt.legend([\"df_steno\" , \"df_control*\", \"df_control\",\"df_pseudo\"])\n",
    "plt.xlabel(\"time(days)\")\n",
    "plt.ylabel(\"Log bacterial density\")\n",
    "# ax.annotate(\"\", xy=(0.5, 0.5), xytext=(4, 104),arrowprops=dict(arrowstyle=\"->\"))\n",
    "# plt.annotate('Brackmard minimum',ha = 'center', va = 'bottom',xytext = (),xy = (),arrowprops = {'facecolor' : 'black'}))\n",
    "plt.title('Density plot')\n",
    "plt.errorbar()\n",
    "plt.yscale('log')\n",
    "# plt.locator_params(numticks=12)\n",
    "plt.show()\n"
   ]
  },
  {
   "cell_type": "code",
   "execution_count": 647,
   "id": "e496f301",
   "metadata": {},
   "outputs": [],
   "source": [
    "# x_pos = np.arange(len(labels))\n",
    "\n",
    "# dataf = [steno_mean,agar_mean,control_mean,pseudo_mean]\n",
    "\n",
    "# error = [steno_std, agar_std, control_std,pseudo_std]\n",
    "\n",
    "# fig, ax = plt.subplots()\n",
    "# ax.errorbar(x_pos, dataf,yerr=0.8,align='center',alpha=0.5,ecolor='black', capsize=10)\n",
    "# ax.set_ylabel('density')\n",
    "# ax.set_xticks(x_pos)\n",
    "# ax.set_xticklabels(labels)\n",
    "# ax.set_title('bacterial abundance')\n",
    "# ax.yaxis.grid(True)"
   ]
  },
  {
   "cell_type": "code",
   "execution_count": 674,
   "id": "d50be89c",
   "metadata": {},
   "outputs": [
    {
     "name": "stdout",
     "output_type": "stream",
     "text": [
      "The Standard error of the mean : 171.450\n",
      "The Standard error of the mean : 2079.251\n",
      "The Standard error of the mean : 3697.772\n",
      "The Standard error of the mean : 2833.500\n",
      "The Standard error of the mean : 4620.064\n",
      "The Standard error of the mean : 171.450\n"
     ]
    }
   ],
   "source": [
    "##standard error of means \n",
    "\n",
    "import scipy.stats as stat\n",
    "#define dataset 1\n",
    "data1 = [1.73E+03,2.26E+03,3.66E+02,1.81E+03,6.06E+02,2.18E+03,1.97E+03,9.63E+02,1.40E+03,1.11E+03,3.98E+03,1.24E+03,1.18E+03,3.96E+02,9.06E+02,5.89E+02,8.08E+02,4.06E+02,1.72E+03,1.59E+03,3.84E+02, 1.87E+03, 5.86E+02,2.33E+03,6.63E+01,4.05E+02]\n",
    "#define dataset 2 by repeated the first dataset twice\n",
    "data2=[5.30E+04,1.80E+03,5.47E+03,5.87E+03,1.22E+04,1.23E+04,5.46E+03,4.44E+03,1.61E+04,1.36E+04,1.08E+04,6.65E+03,1.23E+03,2.41E+03,2.27E+02,5.28E+02,1.40E+03,1.99E+03,4.28E+03,2.78E+02,1.86E+03,4.09E-01,8.71E+02,3.34E+03,3.97E+02,1.91E+02]\n",
    "data3=[1.15E+04,2.74E+04,4.83E+03,2.35E+04,5.37E+04,4.22E+04,4.89E+04,2.03E+04,3.43E+04,2.37E+04,2.73E+04,6.70E+04,5.63E+04,2.08E+04,1.88E+03,1.32E+04,7.54E+03,8.84E+03,2.04E+04,1.97E+03,4.21E+03,1.19E+04,2.92E+03,1.99E+04,1016,1016]\n",
    "data4=[8.36E+03,4.48E+04,2.80E+04,8.65E+03,8.38E+03,2.81E+03,2.04E+04,2.76E+04,1.39E+04,1.14E+04,1.03E+00,1.68E+04,1.69E+04,2.58E+04,6.25E+04,5.77E+03,6.54E+03,2.71E+04,1.00E+04,7.15E+03,1.28E+04,3.13E+04,2.78E+04,9.71E+03,9.39E+02,3.96E+03]\n",
    "data5=[3.33E+03,2.00E+04,1.38E+04,9.93E+03,1.95E+04,3.37E+04,4.22E+04,5.30E+03,3.78E+04,9.18E+03,2.93E+04,1.18E+05,2.08E+04,9.79E+03,4.48E+04,3.62E+03,7.83E+03,1.29E+04,9.96E+03,3.73E+03,2.95E+04,1.16E+04,8.41E+03,9.94E+03,5.97E+03,2.96E+03]\n",
    "data6=[1.73E+03,2.26E+03,3.66E+02,1.81E+03,6.06E+02,2.18E+03,1.97E+03,9.63E+02,1.40E+03,1.11E+03,3.98E+03,1.24E+03,1.18E+03,3.96E+02,9.06E+02,5.89E+02,8.08E+02,4.06E+02,1.72E+03,1.59E+03,3.84E+02,1.87E+03,5.86E+02,2.33E+03,6.63E+01,4.05E+02]\n",
    "#calculate standard error of the mean \n",
    "result1 = stat.sem(data1)\n",
    "result2=stat.sem(data2)\n",
    "result3=stat.sem(data3)\n",
    "result4=stat.sem(data4)\n",
    "result5=stat.sem(data5)\n",
    "result6=stat.sem(data6)\n",
    "\n",
    "#Print the result\n",
    "print(\"The Standard error of the mean : %.3f\"%result1)\n",
    "print(\"The Standard error of the mean : %.3f\"%result2)\n",
    "print(\"The Standard error of the mean : %.3f\"%result3)\n",
    "print(\"The Standard error of the mean : %.3f\"%result4)\n",
    "print(\"The Standard error of the mean : %.3f\"%result5)\n",
    "print(\"The Standard error of the mean : %.3f\"%result6)"
   ]
  },
  {
   "cell_type": "code",
   "execution_count": 749,
   "id": "c1d72814",
   "metadata": {},
   "outputs": [],
   "source": [
    "# x= np.arange(0, 30, 7)\n",
    "# n_nts = len(x)\n",
    "# SEMs = np.arange(171.450,2079.251,3697.772,2833.500,4620.064,171.450)\n",
    "# ax.plot(nts, SEMs, 'b-', label='SEM for Normal dist.')\n"
   ]
  },
  {
   "cell_type": "markdown",
   "id": "a3e9a936",
   "metadata": {},
   "source": [
    "# Figure 3D: Survival plot"
   ]
  },
  {
   "cell_type": "code",
   "execution_count": 341,
   "id": "357f7944",
   "metadata": {},
   "outputs": [
    {
     "data": {
      "text/html": [
       "<div>\n",
       "<style scoped>\n",
       "    .dataframe tbody tr th:only-of-type {\n",
       "        vertical-align: middle;\n",
       "    }\n",
       "\n",
       "    .dataframe tbody tr th {\n",
       "        vertical-align: top;\n",
       "    }\n",
       "\n",
       "    .dataframe thead th {\n",
       "        text-align: right;\n",
       "    }\n",
       "</style>\n",
       "<table border=\"1\" class=\"dataframe\">\n",
       "  <thead>\n",
       "    <tr style=\"text-align: right;\">\n",
       "      <th></th>\n",
       "      <th>Bsal Infection Intensity, clinical scores, time to death, and survival data ssociated with salamanders in the bacterial addition experiment</th>\n",
       "      <th>Unnamed: 1</th>\n",
       "      <th>Unnamed: 2</th>\n",
       "      <th>Unnamed: 3</th>\n",
       "      <th>Unnamed: 4</th>\n",
       "      <th>Unnamed: 5</th>\n",
       "      <th>Unnamed: 6</th>\n",
       "      <th>Unnamed: 7</th>\n",
       "      <th>Unnamed: 8</th>\n",
       "      <th>Unnamed: 9</th>\n",
       "      <th>...</th>\n",
       "      <th>Unnamed: 22</th>\n",
       "      <th>Unnamed: 23</th>\n",
       "      <th>Unnamed: 24</th>\n",
       "      <th>Unnamed: 25</th>\n",
       "      <th>Unnamed: 26</th>\n",
       "      <th>Unnamed: 27</th>\n",
       "      <th>Unnamed: 28</th>\n",
       "      <th>Unnamed: 29</th>\n",
       "      <th>Unnamed: 30</th>\n",
       "      <th>Unnamed: 31</th>\n",
       "    </tr>\n",
       "  </thead>\n",
       "  <tbody>\n",
       "    <tr>\n",
       "      <th>0</th>\n",
       "      <td>Treatment</td>\n",
       "      <td>Individual ID</td>\n",
       "      <td>Bsal load D7</td>\n",
       "      <td>Bsal load D14</td>\n",
       "      <td>Bsal load D21</td>\n",
       "      <td>Bsal load D28</td>\n",
       "      <td>Bsal load D30</td>\n",
       "      <td>Bsal load D32</td>\n",
       "      <td>Bsal load D35</td>\n",
       "      <td>Bsal load D39</td>\n",
       "      <td>...</td>\n",
       "      <td>clinical score D39</td>\n",
       "      <td>clinical score D42</td>\n",
       "      <td>Clinical score D49</td>\n",
       "      <td>clinical score D56</td>\n",
       "      <td>Clinical score D63</td>\n",
       "      <td>Clinical score D70</td>\n",
       "      <td>Clinical score D77</td>\n",
       "      <td>Rate of Change in Infection Intensity (Day 0-28)</td>\n",
       "      <td>Days until Death</td>\n",
       "      <td>Survival Status</td>\n",
       "    </tr>\n",
       "    <tr>\n",
       "      <th>1</th>\n",
       "      <td>Sten.rhizo</td>\n",
       "      <td>1</td>\n",
       "      <td>-</td>\n",
       "      <td>1030</td>\n",
       "      <td>888</td>\n",
       "      <td>196.4</td>\n",
       "      <td>NaN</td>\n",
       "      <td>NaN</td>\n",
       "      <td>2520</td>\n",
       "      <td>NaN</td>\n",
       "      <td>...</td>\n",
       "      <td>NaN</td>\n",
       "      <td>3</td>\n",
       "      <td>4</td>\n",
       "      <td>NaN</td>\n",
       "      <td>NaN</td>\n",
       "      <td>NaN</td>\n",
       "      <td>NaN</td>\n",
       "      <td>-59.542857</td>\n",
       "      <td>49</td>\n",
       "      <td>1</td>\n",
       "    </tr>\n",
       "    <tr>\n",
       "      <th>2</th>\n",
       "      <td>Sten.rhizo</td>\n",
       "      <td>2</td>\n",
       "      <td>-</td>\n",
       "      <td>894</td>\n",
       "      <td>2340</td>\n",
       "      <td>9980</td>\n",
       "      <td>NaN</td>\n",
       "      <td>NaN</td>\n",
       "      <td>NaN</td>\n",
       "      <td>NaN</td>\n",
       "      <td>...</td>\n",
       "      <td>NaN</td>\n",
       "      <td>NaN</td>\n",
       "      <td>NaN</td>\n",
       "      <td>NaN</td>\n",
       "      <td>NaN</td>\n",
       "      <td>NaN</td>\n",
       "      <td>NaN</td>\n",
       "      <td>649</td>\n",
       "      <td>28</td>\n",
       "      <td>1</td>\n",
       "    </tr>\n",
       "    <tr>\n",
       "      <th>3</th>\n",
       "      <td>Sten.rhizo</td>\n",
       "      <td>3</td>\n",
       "      <td>-</td>\n",
       "      <td>71.6</td>\n",
       "      <td>1096</td>\n",
       "      <td>11800</td>\n",
       "      <td>12340</td>\n",
       "      <td>NaN</td>\n",
       "      <td>NaN</td>\n",
       "      <td>NaN</td>\n",
       "      <td>...</td>\n",
       "      <td>NaN</td>\n",
       "      <td>NaN</td>\n",
       "      <td>NaN</td>\n",
       "      <td>NaN</td>\n",
       "      <td>NaN</td>\n",
       "      <td>NaN</td>\n",
       "      <td>NaN</td>\n",
       "      <td>837.742857</td>\n",
       "      <td>30</td>\n",
       "      <td>1</td>\n",
       "    </tr>\n",
       "    <tr>\n",
       "      <th>4</th>\n",
       "      <td>Sten.rhizo</td>\n",
       "      <td>4</td>\n",
       "      <td>-</td>\n",
       "      <td>-</td>\n",
       "      <td>3800</td>\n",
       "      <td>13460</td>\n",
       "      <td>NaN</td>\n",
       "      <td>NaN</td>\n",
       "      <td>NaN</td>\n",
       "      <td>NaN</td>\n",
       "      <td>...</td>\n",
       "      <td>NaN</td>\n",
       "      <td>NaN</td>\n",
       "      <td>NaN</td>\n",
       "      <td>NaN</td>\n",
       "      <td>NaN</td>\n",
       "      <td>NaN</td>\n",
       "      <td>NaN</td>\n",
       "      <td>961.428571</td>\n",
       "      <td>28</td>\n",
       "      <td>1</td>\n",
       "    </tr>\n",
       "  </tbody>\n",
       "</table>\n",
       "<p>5 rows × 32 columns</p>\n",
       "</div>"
      ],
      "text/plain": [
       "  Bsal Infection Intensity, clinical scores, time to death, and survival data ssociated with salamanders in the bacterial addition experiment   \\\n",
       "0                                          Treatment                                                                                             \n",
       "1                                         Sten.rhizo                                                                                             \n",
       "2                                         Sten.rhizo                                                                                             \n",
       "3                                         Sten.rhizo                                                                                             \n",
       "4                                         Sten.rhizo                                                                                             \n",
       "\n",
       "       Unnamed: 1    Unnamed: 2     Unnamed: 3     Unnamed: 4     Unnamed: 5  \\\n",
       "0   Individual ID  Bsal load D7  Bsal load D14  Bsal load D21  Bsal load D28   \n",
       "1               1             -           1030            888          196.4   \n",
       "2               2             -            894           2340           9980   \n",
       "3               3             -           71.6           1096          11800   \n",
       "4               4             -              -           3800          13460   \n",
       "\n",
       "      Unnamed: 6     Unnamed: 7     Unnamed: 8     Unnamed: 9  ...  \\\n",
       "0  Bsal load D30  Bsal load D32  Bsal load D35  Bsal load D39  ...   \n",
       "1            NaN            NaN           2520            NaN  ...   \n",
       "2            NaN            NaN            NaN            NaN  ...   \n",
       "3          12340            NaN            NaN            NaN  ...   \n",
       "4            NaN            NaN            NaN            NaN  ...   \n",
       "\n",
       "          Unnamed: 22         Unnamed: 23         Unnamed: 24  \\\n",
       "0  clinical score D39  clinical score D42  Clinical score D49   \n",
       "1                 NaN                   3                   4   \n",
       "2                 NaN                 NaN                 NaN   \n",
       "3                 NaN                 NaN                 NaN   \n",
       "4                 NaN                 NaN                 NaN   \n",
       "\n",
       "          Unnamed: 25         Unnamed: 26         Unnamed: 27  \\\n",
       "0  clinical score D56  Clinical score D63  Clinical score D70   \n",
       "1                 NaN                 NaN                 NaN   \n",
       "2                 NaN                 NaN                 NaN   \n",
       "3                 NaN                 NaN                 NaN   \n",
       "4                 NaN                 NaN                 NaN   \n",
       "\n",
       "          Unnamed: 28                                       Unnamed: 29  \\\n",
       "0  Clinical score D77  Rate of Change in Infection Intensity (Day 0-28)   \n",
       "1                 NaN                                        -59.542857   \n",
       "2                 NaN                                               649   \n",
       "3                 NaN                                        837.742857   \n",
       "4                 NaN                                        961.428571   \n",
       "\n",
       "        Unnamed: 30      Unnamed: 31  \n",
       "0  Days until Death  Survival Status  \n",
       "1                49                1  \n",
       "2                28                1  \n",
       "3                30                1  \n",
       "4                28                1  \n",
       "\n",
       "[5 rows x 32 columns]"
      ]
     },
     "execution_count": 341,
     "metadata": {},
     "output_type": "execute_result"
    }
   ],
   "source": [
    "## this it the plot Bsal Infection Intensity, clinical scores, time to death, and survival data ssociated with salamanders in the bacterial addition experiment. \n",
    "##We see that there is a correlation in the bacterial density and salander survival\n",
    "df = pd.read_excel('SALAMANDER.xlsx', sheet_name=9)\n",
    "df.head()"
   ]
  },
  {
   "cell_type": "code",
   "execution_count": 342,
   "id": "c86fd268",
   "metadata": {},
   "outputs": [],
   "source": [
    "df_tbu = df.get([\"Bsal Infection Intensity, clinical scores, time to death, and survival data ssociated with salamanders in the bacterial addition experiment \", \"Unnamed: 30\", \"Unnamed: 31\"])"
   ]
  },
  {
   "cell_type": "code",
   "execution_count": 343,
   "id": "a54c9450",
   "metadata": {},
   "outputs": [],
   "source": [
    "df_tbu = df_tbu.drop([0])"
   ]
  },
  {
   "cell_type": "code",
   "execution_count": 344,
   "id": "8bde8d90",
   "metadata": {},
   "outputs": [],
   "source": [
    "df_grouped = df_tbu.groupby(\"Bsal Infection Intensity, clinical scores, time to death, and survival data ssociated with salamanders in the bacterial addition experiment \")"
   ]
  },
  {
   "cell_type": "code",
   "execution_count": 345,
   "id": "68816c07",
   "metadata": {},
   "outputs": [],
   "source": [
    "list_pseudo = df_grouped.get_group(\"Pseudo\")['Unnamed: 30']\n",
    "list_StenRizo = df_grouped.get_group(\"Sten.rhizo\")['Unnamed: 30']\n",
    "list_controlNoTreatment = df_grouped.get_group(\"Control (No Treatment)\")['Unnamed: 30']\n",
    "list_steno = df_grouped.get_group(\"Steno\")['Unnamed: 30']\n",
    "list_agarRinse = df_grouped.get_group(\"Control (Agar rinse)\")['Unnamed: 30']"
   ]
  },
  {
   "cell_type": "code",
   "execution_count": 346,
   "id": "1ca70854",
   "metadata": {},
   "outputs": [
    {
     "data": {
      "text/plain": [
       "8     28\n",
       "10    35\n",
       "11    63\n",
       "14    32\n",
       "16    39\n",
       "17    28\n",
       "Name: Unnamed: 30, dtype: object"
      ]
     },
     "execution_count": 346,
     "metadata": {},
     "output_type": "execute_result"
    }
   ],
   "source": [
    "list_pseudo = list_pseudo.dropna(axis=0, how=\"any\", inplace=False)\n",
    "list_pseudo"
   ]
  },
  {
   "cell_type": "code",
   "execution_count": 347,
   "id": "7d4dfe86",
   "metadata": {},
   "outputs": [],
   "source": [
    "##created a list to store the probabilities of each type \n",
    "prob_pseudo = []\n",
    "prob_StenRizo = []\n",
    "prob_controlNoTreatment = []\n",
    "prob_steno = []\n",
    "prob_agarRinse = []"
   ]
  },
  {
   "cell_type": "code",
   "execution_count": 348,
   "id": "310f4f95",
   "metadata": {},
   "outputs": [],
   "source": [
    "for i in range(80): # for the entire timeframe\n",
    "  # Pseudo\n",
    "  alive = list_pseudo[list_pseudo > i] #calculating the probability of people who will be alive in pseudo if it's above the value given in the dataset, it will die.\n",
    "  prob_pseudo.append(len(alive)/list_pseudo.size) #probability is equal to alive/total\n",
    "  # StenRizo\n",
    "  alive = list_StenRizo[list_StenRizo > i]\n",
    "  prob_StenRizo.append(len(alive)/list_StenRizo.size)\n",
    "  # controlNoTreatment\n",
    "  alive = list_controlNoTreatment[list_controlNoTreatment > i]\n",
    "  prob_controlNoTreatment.append(len(alive)/list_controlNoTreatment.size)\n",
    "  # Steno\n",
    "  alive = list_steno[list_steno > i]\n",
    "  prob_steno.append(len(alive)/list_steno.size)\n",
    "  # AgarRinse\n",
    "  alive = list_agarRinse[list_agarRinse > i]\n",
    "  prob_agarRinse.append(len(alive)/list_agarRinse.size)"
   ]
  },
  {
   "cell_type": "markdown",
   "id": "8e6549f3",
   "metadata": {},
   "source": [
    "STENO= ORANGE \n",
    "PSEUDO==BLUE\n",
    "purple== agarRinse== CONTROL.\n",
    "RED== CONTROL* "
   ]
  },
  {
   "cell_type": "code",
   "execution_count": 650,
   "id": "bee8aa62",
   "metadata": {},
   "outputs": [],
   "source": [
    "x_axis = [i for i in range(80)]"
   ]
  },
  {
   "cell_type": "code",
   "execution_count": 649,
   "id": "104a9ffd",
   "metadata": {},
   "outputs": [
    {
     "data": {
      "image/png": "[encoded data removed]",
      "text/plain": [
       "<Figure size 432x288 with 1 Axes>"
      ]
     },
     "metadata": {
      "needs_background": "light"
     },
     "output_type": "display_data"
    }
   ],
   "source": [
    "plt.plot(x_axis, prob_pseudo) #plotting the probabilities OF how many were alive on each day\n",
    "plt.plot(x_axis, prob_StenRizo)\n",
    "plt.plot(x_axis, prob_controlNoTreatment)\n",
    "plt.plot(x_axis, prob_steno)\n",
    "plt.plot(x_axis, prob_agarRinse)\n",
    "plt.yticks(np.arange(0, 1.25, 0.25))\n",
    "plt.xticks(np.arange(30, 90,10 ))\n",
    "plt.legend([\"prob_pseudo\" , \"prob_steno\",\"prob_StenRizo\", \"CONTROL*\",\"CONTROL\"])\n",
    "plt.xlabel(\"time(days)\")\n",
    "plt.ylabel(\"survival probability\")\n",
    "plt.title('Survival curve')\n",
    "plt.show()"
   ]
  },
  {
   "cell_type": "markdown",
   "id": "d756b1f7",
   "metadata": {},
   "source": [
    "# PCA for figure 2C "
   ]
  },
  {
   "cell_type": "code",
   "execution_count": 464,
   "id": "0d1e3b05",
   "metadata": {},
   "outputs": [],
   "source": [
    "###in this plot, I have tried to reduce the dimensions of multiple samples present in the dataframe. \n",
    "\n",
    "import numpy as np\n",
    "import matplotlib.pyplot as plt\n",
    "import pandas as pd\n",
    "from sklearn.decomposition import PCA"
   ]
  },
  {
   "cell_type": "code",
   "execution_count": 465,
   "id": "f8185994",
   "metadata": {},
   "outputs": [
    {
     "data": {
      "text/plain": [
       "452"
      ]
     },
     "execution_count": 465,
     "metadata": {},
     "output_type": "execute_result"
    }
   ],
   "source": [
    "dataset = pd.read_excel('SALAMANDER.xlsx', sheet_name='rarified OTUTable (Exp1)')\n",
    "# print(dataset)\n",
    "X = dataset.iloc[1:,1:-1].values\n",
    "len(X)\n",
    "# y = dataset.iloc[:, -1].values \n"
   ]
  },
  {
   "cell_type": "code",
   "execution_count": 466,
   "id": "1e27fa66",
   "metadata": {},
   "outputs": [],
   "source": [
    "X = pd.DataFrame(X)"
   ]
  },
  {
   "cell_type": "code",
   "execution_count": 467,
   "id": "bde43b12",
   "metadata": {},
   "outputs": [],
   "source": [
    "columns = X.iloc[0, :]\n",
    "# columns"
   ]
  },
  {
   "cell_type": "code",
   "execution_count": 468,
   "id": "3dcfabab",
   "metadata": {},
   "outputs": [],
   "source": [
    "X = X.drop([0])"
   ]
  },
  {
   "cell_type": "code",
   "execution_count": 469,
   "id": "c05d34bb",
   "metadata": {},
   "outputs": [
    {
     "data": {
      "text/plain": [
       "Int64Index([2987,    4,    0,    2,    5,    3, 3145,   21,    6,   12,   10,\n",
       "               6,    6,    0, 2956,    9,    1,    2,    0,  877,   69,   24,\n",
       "             650, 1745],\n",
       "           dtype='int64', name=0)"
      ]
     },
     "execution_count": 469,
     "metadata": {},
     "output_type": "execute_result"
    }
   ],
   "source": [
    "X.columns = columns\n",
    "X.columns"
   ]
  },
  {
   "cell_type": "code",
   "execution_count": 470,
   "id": "ce6f746d",
   "metadata": {},
   "outputs": [
    {
     "data": {
      "text/plain": [
       "array([[16.74491022, -0.14707408, -0.07803285, ..., -0.10083799,\n",
       "         1.72803573,  8.76264708],\n",
       "       [10.45465357,  2.63342059,  5.16641026, ...,  0.09539058,\n",
       "        19.81089939,  1.43095821],\n",
       "       [ 5.18998224,  0.70045638,  0.26070858, ...,  0.64483056,\n",
       "         2.96284717,  2.42876202],\n",
       "       ...,\n",
       "       [-0.14306145, -0.19168095, -0.07803285, ..., -0.10083799,\n",
       "        -0.12418142, -0.19589583],\n",
       "       [-0.14306145, -0.19168095, -0.07803285, ..., -0.10083799,\n",
       "        -0.12418142, -0.19589583],\n",
       "       [-0.14306145, -0.19168095, -0.07803285, ..., -0.10083799,\n",
       "        -0.10043505, -0.19589583]])"
      ]
     },
     "execution_count": 470,
     "metadata": {},
     "output_type": "execute_result"
    }
   ],
   "source": [
    "from sklearn.preprocessing import StandardScaler #standard scaling\n",
    "sc = StandardScaler()\n",
    "X_train = sc.fit_transform(X)\n",
    "X_train\n",
    "# X_test = sc.transform(X_test)"
   ]
  },
  {
   "cell_type": "code",
   "execution_count": 471,
   "id": "3ab052f7",
   "metadata": {},
   "outputs": [
    {
     "name": "stdout",
     "output_type": "stream",
     "text": [
      "             0         1\n",
      "0     7.579115 -9.228242\n",
      "1    10.256071 -6.332933\n",
      "2    11.191093 -9.093267\n",
      "3     0.727204 -1.228583\n",
      "4     8.248411 -2.414428\n",
      "..         ...       ...\n",
      "446  -0.641652  0.261510\n",
      "447  -0.641367  0.259557\n",
      "448  -0.625201  0.248433\n",
      "449  -0.635321  0.256379\n",
      "450  -0.652577  0.269514\n",
      "\n",
      "[451 rows x 2 columns]\n"
     ]
    }
   ],
   "source": [
    "from sklearn.decomposition import PCA\n",
    "pca = PCA(n_components = 2) #pca for 2 principal components\n",
    "X_train = pca.fit_transform(X_train)\n",
    "pca_df = pd.DataFrame(data = X_train, columns=range(0,2))\n",
    "print(pca_df)\n",
    "# X_test = pca.transform(X_test)"
   ]
  },
  {
   "cell_type": "code",
   "execution_count": 472,
   "id": "65a5b0e2",
   "metadata": {},
   "outputs": [
    {
     "data": {
      "text/plain": [
       "array([0.25888762, 0.1825569 ])"
      ]
     },
     "execution_count": 472,
     "metadata": {},
     "output_type": "execute_result"
    }
   ],
   "source": [
    "explained_variance=pca.explained_variance_ratio_ ##variance in the PCs\n",
    "explained_variance"
   ]
  },
  {
   "cell_type": "code",
   "execution_count": 715,
   "id": "8dd6a0d0",
   "metadata": {},
   "outputs": [
    {
     "data": {
      "image/png": "[encoded data removed]",
      "text/plain": [
       "<Figure size 864x576 with 1 Axes>"
      ]
     },
     "metadata": {
      "needs_background": "light"
     },
     "output_type": "display_data"
    }
   ],
   "source": [
    "import numpy as np\n",
    "import matplotlib\n",
    "import matplotlib.pyplot as plt\n",
    "from sklearn.decomposition import PCA\n",
    "\n",
    "PC_values = np.arange(pca.n_components_) + 1\n",
    "# plt.plot(PC_values, pca.explained_variance_ratio_, 'ro-',linewidth=1)\n",
    "plt.figure(figsize=(12,8))\n",
    "plt.bar(PC_values, pca.explained_variance_ratio_)\n",
    "plt.title('PCA')\n",
    "plt.xlabel('PCA1')\n",
    "plt.ylabel('PCA2')\n",
    "plt.show()"
   ]
  },
  {
   "cell_type": "code",
   "execution_count": 474,
   "id": "796df9be",
   "metadata": {},
   "outputs": [],
   "source": [
    "# from sklearn.decomposition import PCA \n",
    "# # sklearn_pca = PCA(n_components=2)\n",
    "# # Y_sklearn = sklearn_pca.fit_transform(df)\n",
    "# # print(Y_sklearn)\n",
    "# plt.figure(figsize=(15,8))\n",
    "# plt.scatter(pca_df['0'],pca_df['1'])\n",
    "\n",
    "# plt.xlabel(\"PC1\")\n",
    "# plt.ylabel(\"PC2\")\n",
    "# plt.title('PCA')"
   ]
  },
  {
   "cell_type": "code",
   "execution_count": 719,
   "id": "53f70b9b",
   "metadata": {},
   "outputs": [
    {
     "data": {
      "image/png": "[encoded data removed]",
      "text/plain": [
       "<Figure size 432x288 with 1 Axes>"
      ]
     },
     "metadata": {
      "needs_background": "light"
     },
     "output_type": "display_data"
    },
    {
     "data": {
      "text/plain": [
       "(451, 2)"
      ]
     },
     "execution_count": 719,
     "metadata": {},
     "output_type": "execute_result"
    }
   ],
   "source": [
    "from matplotlib.colors import ListedColormap\n",
    "X_set, y_set = X_train, X_train\n",
    "X1, X2 = np.meshgrid(np.arange(start = X_set[:, 0].min() - 1, stop = X_set[:, 0].max() + 1, step = 0.01),\n",
    "                     np.arange(start = X_set[:, 1].min() - 1, stop = X_set[:, 1].max() + 1, step = 0.01))\n",
    "# plt.contourf(X1, X2, classifier.predict(np.array([X1.ravel(), X2.ravel()]).T).reshape(X1.shape),\n",
    "#              alpha = 0.75, cmap = ListedColormap(('red', 'green', 'blue')))\n",
    "plt.xlim(X1.min(), X1.max())\n",
    "plt.ylim(X2.min(), X2.max())\n",
    "# for i, j in enumerate(np.unique(y_set)):\n",
    "#     plt.scatter(X_set[y_set == j, 0], X_set[y_set == j, 1],\n",
    "#                 c = ListedColormap(('red', 'green', 'blue'))(i), label = j)\n",
    "\n",
    "plt.scatter(X_train[:, 0], X_train[:, 1])\n",
    "plt.title('PCA Treated sample')\n",
    "plt.xlabel('PC1')\n",
    "plt.ylabel('PC2')\n",
    "# plt.legend()\n",
    "plt.show()\n",
    "\n",
    "X_train.shape"
   ]
  },
  {
   "cell_type": "markdown",
   "id": "602442d2",
   "metadata": {},
   "source": [
    "\n",
    "\n",
    "##from the control sample"
   ]
  },
  {
   "cell_type": "code",
   "execution_count": 476,
   "id": "3f73c1e0",
   "metadata": {},
   "outputs": [],
   "source": [
    "dataset = pd.read_excel('SALAMANDER.xlsx', sheet_name='rarified OTUTable(Field)')"
   ]
  },
  {
   "cell_type": "code",
   "execution_count": 477,
   "id": "88d9f393",
   "metadata": {},
   "outputs": [
    {
     "data": {
      "text/plain": [
       "array([[510, 0, 0, ..., 0, 0, 0],\n",
       "       [88, 0, 0, ..., 0, 0, 0],\n",
       "       [11, 0, 7, ..., 0, 0, 0],\n",
       "       ...,\n",
       "       [0, 0, 0, ..., 0, 0, 0],\n",
       "       [0, 0, 0, ..., 0, 0, 0],\n",
       "       [0, 0, 0, ..., 0, 7, 0]], dtype=object)"
      ]
     },
     "execution_count": 477,
     "metadata": {},
     "output_type": "execute_result"
    }
   ],
   "source": [
    "Xi = dataset.iloc[1:, 1:-1].values\n",
    "Xi"
   ]
  },
  {
   "cell_type": "code",
   "execution_count": 478,
   "id": "aa6e0187",
   "metadata": {},
   "outputs": [],
   "source": [
    "Xi = pd.DataFrame(Xi)"
   ]
  },
  {
   "cell_type": "code",
   "execution_count": 479,
   "id": "7edc351b",
   "metadata": {},
   "outputs": [],
   "source": [
    "col = Xi.iloc[0, :]"
   ]
  },
  {
   "cell_type": "code",
   "execution_count": 480,
   "id": "ec3a6715",
   "metadata": {},
   "outputs": [],
   "source": [
    "Xi = Xi.drop([0])"
   ]
  },
  {
   "cell_type": "code",
   "execution_count": 481,
   "id": "1b01bc02",
   "metadata": {},
   "outputs": [],
   "source": [
    "Xi.columns = col\n",
    "# Xi.columns"
   ]
  },
  {
   "cell_type": "code",
   "execution_count": 482,
   "id": "f4f8f86c",
   "metadata": {},
   "outputs": [
    {
     "data": {
      "text/plain": [
       "array([[ 7.34766015e+01, -1.65001599e-01, -1.90212212e-01, ...,\n",
       "        -1.00334111e-01, -1.64613509e-02, -4.51081805e-02],\n",
       "       [ 9.12632222e+00, -1.65001599e-01,  7.99975502e+00, ...,\n",
       "        -1.00334111e-01, -1.64613509e-02, -4.51081805e-02],\n",
       "       [ 4.94773265e+00,  2.82528938e+01,  3.31977374e+00, ...,\n",
       "         1.65628540e+01,  9.96076343e-01, -4.51081805e-02],\n",
       "       ...,\n",
       "       [-6.65748297e-02, -1.65001599e-01, -1.90212212e-01, ...,\n",
       "        -1.00334111e-01, -1.64613509e-02, -4.51081805e-02],\n",
       "       [-6.65748297e-02, -1.65001599e-01, -1.90212212e-01, ...,\n",
       "        -1.00334111e-01, -1.64613509e-02, -4.51081805e-02],\n",
       "       [-6.65748297e-02, -1.65001599e-01, -1.90212212e-01, ...,\n",
       "        -1.00334111e-01,  6.92315035e-01, -4.51081805e-02]])"
      ]
     },
     "execution_count": 482,
     "metadata": {},
     "output_type": "execute_result"
    }
   ],
   "source": [
    "from sklearn.preprocessing import StandardScaler\n",
    "sc = StandardScaler()\n",
    "Xi_train = sc.fit_transform(Xi)\n",
    "Xi_train\n",
    "# X_test = sc.transform(X_test)"
   ]
  },
  {
   "cell_type": "code",
   "execution_count": 483,
   "id": "94a62f5c",
   "metadata": {},
   "outputs": [
    {
     "name": "stdout",
     "output_type": "stream",
     "text": [
      "               0          1\n",
      "0       0.523394  -0.575146\n",
      "1       7.427444  12.280494\n",
      "2     373.831116 -57.813572\n",
      "3      51.683844  -4.397139\n",
      "4      -0.801984  -0.704871\n",
      "...          ...        ...\n",
      "6146   -0.830752  -0.424063\n",
      "6147   -0.833018  -0.448170\n",
      "6148   -0.827352  -0.387904\n",
      "6149   -0.831885  -0.436117\n",
      "6150   -0.856071  -0.713017\n",
      "\n",
      "[6151 rows x 2 columns]\n"
     ]
    }
   ],
   "source": [
    "from sklearn.decomposition import PCA\n",
    "pca = PCA(n_components = 2)\n",
    "Xi_train = pca.fit_transform(Xi_train)\n",
    "PCA_df = pd.DataFrame(data = Xi_train, columns=range(0,2))\n",
    "print(PCA_df)\n",
    "# X_test = pca.transform(X_test)"
   ]
  },
  {
   "cell_type": "code",
   "execution_count": 484,
   "id": "75ff96df",
   "metadata": {},
   "outputs": [
    {
     "data": {
      "text/plain": [
       "array([0.21331489, 0.0718017 ])"
      ]
     },
     "execution_count": 484,
     "metadata": {},
     "output_type": "execute_result"
    }
   ],
   "source": [
    "explained_vari=pca.explained_variance_ratio_\n",
    "explained_vari"
   ]
  },
  {
   "cell_type": "code",
   "execution_count": 716,
   "id": "5e74bfa1",
   "metadata": {},
   "outputs": [
    {
     "data": {
      "image/png": "[encoded data removed]",
      "text/plain": [
       "<Figure size 864x576 with 1 Axes>"
      ]
     },
     "metadata": {
      "needs_background": "light"
     },
     "output_type": "display_data"
    }
   ],
   "source": [
    "import numpy as np\n",
    "import matplotlib\n",
    "import matplotlib.pyplot as plt\n",
    "from sklearn.decomposition import PCA\n",
    "\n",
    "PC_val = np.arange(pca.n_components_) + 1\n",
    "# plt.plot(PC_values, pca.explained_variance_ratio_, 'ro-',linewidth=1)\n",
    "plt.figure(figsize=(12,8))\n",
    "plt.bar(PC_val, pca.explained_variance_ratio_)\n",
    "plt.title('PCA')\n",
    "plt.xlabel('PCA1')\n",
    "plt.ylabel('PCA2')\n",
    "plt.show()"
   ]
  },
  {
   "cell_type": "code",
   "execution_count": 436,
   "id": "266d00f9",
   "metadata": {},
   "outputs": [],
   "source": [
    "# from sklearn.decomposition import PCA \n",
    "# # sklearn_pca = PCA(n_components=2)\n",
    "# # Y_sklearn = sklearn_pca.fit_transform(df)\n",
    "# # print(Y_sklearn)\n",
    "# plt.figure(figsize=(15,8))\n",
    "# plt.scatter(PCA_DF['0'],PCA_DF['1'])\n",
    "\n",
    "# plt.xlabel(\"PC1\")\n",
    "# plt.ylabel(\"PC2\")\n",
    "# plt.title('PCA')"
   ]
  },
  {
   "cell_type": "code",
   "execution_count": 661,
   "id": "c2af884b",
   "metadata": {},
   "outputs": [
    {
     "data": {
      "image/png": "[encoded data removed]",
      "text/plain": [
       "<Figure size 432x288 with 1 Axes>"
      ]
     },
     "metadata": {
      "needs_background": "light"
     },
     "output_type": "display_data"
    },
    {
     "data": {
      "text/plain": [
       "(6151, 2)"
      ]
     },
     "execution_count": 661,
     "metadata": {},
     "output_type": "execute_result"
    }
   ],
   "source": [
    "from matplotlib.colors import ListedColormap\n",
    "Xi_set, yi_set = Xi_train, Xi_train\n",
    "X1, X2 = np.meshgrid(np.arange(start = Xi_set[:, 0].min() - 1, stop = Xi_set[:, 0].max() + 1, step = 0.01),\n",
    "                     np.arange(start = Xi_set[:, 1].min() - 1, stop = Xi_set[:, 1].max() + 1, step = 0.01))\n",
    "# plt.contourf(X1, X2, classifier.predict(np.array([X1.ravel(), X2.ravel()]).T).reshape(X1.shape),\n",
    "#              alpha = 0.75, cmap = ListedColormap(('red', 'green', 'blue')))\n",
    "plt.xlim(X1.min(), X1.max())\n",
    "plt.ylim(X2.min(), X2.max())\n",
    "# for i, j in enumerate(np.unique(y_set)):\n",
    "#     plt.scatter(X_set[y_set == j, 0], X_set[y_set == j, 1],\n",
    "#                 c = ListedColormap(('red', 'green', 'blue'))(i), label = j)\n",
    "\n",
    "plt.scatter(Xi_train[:, 0], Xi_train[:, 1])\n",
    "plt.title('PCA Control sample')\n",
    "plt.xlabel('PC1')\n",
    "plt.ylabel('PC2')\n",
    "# plt.legend()\n",
    "plt.show()\n",
    "\n",
    "Xi_train.shape"
   ]
  },
  {
   "cell_type": "code",
   "execution_count": 693,
   "id": "b5b0f8a7",
   "metadata": {},
   "outputs": [
    {
     "data": {
      "text/plain": [
       "<matplotlib.collections.PathCollection at 0x7f7fda1e1040>"
      ]
     },
     "execution_count": 693,
     "metadata": {},
     "output_type": "execute_result"
    },
    {
     "data": {
      "image/png": "[encoded data removed]",
      "text/plain": [
       "<Figure size 432x288 with 1 Axes>"
      ]
     },
     "metadata": {
      "needs_background": "light"
     },
     "output_type": "display_data"
    }
   ],
   "source": [
    "##Both the control and exposed\n",
    "\n",
    "plt.scatter(X_train[:, 0], X_train[:, 1]) #EXP DATA\n",
    "plt.scatter(Xi_train[:, 0], Xi_train[:, 1]) #feild data"
   ]
  },
  {
   "cell_type": "markdown",
   "id": "23ad786d",
   "metadata": {},
   "source": [
    "# Figure 2d: abundance of different bacterial species\n",
    "In this plot, i have taken a filtered dataframe with only those 6 types of bacteria and their abundance on different samples "
   ]
  },
  {
   "cell_type": "code",
   "execution_count": 635,
   "id": "8256bda3",
   "metadata": {},
   "outputs": [],
   "source": [
    "import pandas as pd\n",
    "import os\n",
    "import numpy as np\n",
    "import seaborn as sns\n",
    "import matplotlib.pyplot as plt \n",
    "import statsmodels.api as sm\n",
    "# df = pd.read_excel('SALAMANDER.xlsx', sheet_name=3)\n",
    "control = pd.read_excel('SALAMANDER.xlsx', sheet_name = 'rarified OTUTable(Field)') #loading the data- control\n",
    "bsal_exposed = pd.read_excel('SALAMANDER.xlsx', sheet_name = 'rarified OTUTable (Exp1)')\n",
    "#loading the data- treatment (bsal_exposed)"
   ]
  },
  {
   "cell_type": "code",
   "execution_count": 636,
   "id": "ee783b13",
   "metadata": {},
   "outputs": [],
   "source": [
    "%matplotlib inline\n",
    "from __future__ import print_function\n",
    "import numpy as np\n",
    "import statsmodels.api as sm\n",
    "from scipy import stats\n",
    "from matplotlib import pyplot as plt"
   ]
  },
  {
   "cell_type": "code",
   "execution_count": 637,
   "id": "25881976",
   "metadata": {},
   "outputs": [],
   "source": [
    "!pip install -q statsmodels\n",
    "import numpy as np\n",
    "import pandas as pd\n",
    "import statsmodels.api as sm\n",
    "import statsmodels.formula.api as smf\n",
    "# data = sm.datasets.get_rdataset('dietox', 'geepack').data\n",
    "# md = smf.mixedlm(\"Weight ~ Time\", data, groups=data[\"Pig\"], re_formula=\"~Time\")\n",
    "# mdf = md.fit(method=[\"lbfgs\"])\n",
    "# print(mdf.summary())"
   ]
  },
  {
   "cell_type": "code",
   "execution_count": 638,
   "id": "e90cddfc",
   "metadata": {},
   "outputs": [],
   "source": [
    "control_columns = control.iloc[0,:]  \n",
    "# print(control_columns)\n",
    "bsal_exposed_columns = bsal_exposed.iloc[0,:]"
   ]
  },
  {
   "cell_type": "code",
   "execution_count": 639,
   "id": "ac5936d4",
   "metadata": {},
   "outputs": [],
   "source": [
    "control = control.drop([0]) \n",
    "\n",
    "bsal_exposed = bsal_exposed.drop([0])"
   ]
  },
  {
   "cell_type": "code",
   "execution_count": 640,
   "id": "9fc2e0b5",
   "metadata": {},
   "outputs": [],
   "source": [
    "control.columns = control_columns\n",
    "bsal_exposed.columns = bsal_exposed_columns"
   ]
  },
  {
   "cell_type": "code",
   "execution_count": 566,
   "id": "d08464ba",
   "metadata": {},
   "outputs": [],
   "source": [
    "taxonomies = ['k__Bacteria; p__Actinobacteria; c__Actinobacteria; o__Actinomycetales', \n",
    "         'k__Bacteria; p__Actinobacteria; c__Actinobacteria; o__Actinomycetales; f__Actinomycetaceae; g__Actinomyces; s__', \n",
    "         'k__Bacteria; p__Bacteroidetes; c__Cytophagia; o__Cytophagales; f__Cytophagaceae; g__Dyadobacter; s__',\n",
    "         'k__Bacteria; p__Bacteroidetes; c__Flavobacteriia; o__Flavobacteriales; f__[Weeksellaceae]; g__Chryseobacterium; s__',\n",
    "         'k__Bacteria; p__Firmicutes; c__Bacilli; o__Lactobacillales; f__Streptococcaceae; g__Lactococcus; s__',\n",
    "         'k__Bacteria; p__Fusobacteria; c__Fusobacteriia; o__Fusobacteriales; f__Fusobacteriaceae; g__Fusobacterium; s__',\n",
    "         'k__Bacteria; p__Proteobacteria; c__Gammaproteobacteria; o__Aeromonadales; f__Aeromonadaceae; g__; s__',\n",
    "         'k__Bacteria; p__Proteobacteria; c__Gammaproteobacteria; o__Xanthomonadales; f__Xanthomonadaceae; g__Stenotrophomonas', \n",
    "         'k__Bacteria; p__Bacteroidetes; c__Cytophagia; o__Cytophagales; f__Cytophagaceae; g__Dyadobacter; s__', \n",
    "         'k__Bacteria; p__Actinobacteria; c__Actinobacteria; o__Actinomycetales; f__Microbacteriaceae; g__Leucobacter; s__', \n",
    "         'k__Bacteria; p__Proteobacteria; c__Gammaproteobacteria; o__Xanthomonadales; f__Xanthomonadaceae; g__Stenotrophomonas', \n",
    "         'k__Bacteria; p__Proteobacteria; c__Gammaproteobacteria; o__Xanthomonadales; f__Xanthomonadaceae; g__Stenotrophomonas; s__', \n",
    "         'k__Bacteria; p__Proteobacteria; c__Gammaproteobacteria; o__Xanthomonadales; f__Xanthomonadaceae; g__Stenotrophomonas; s__acidaminiphila',\n",
    "         'k__Bacteria; p__Proteobacteria; c__Gammaproteobacteria; o__Xanthomonadales; f__Xanthomonadaceae; g__Stenotrophomonas; s__maltophilia',\n",
    "         'k__Bacteria; p__Proteobacteria; c__Gammaproteobacteria; o__Xanthomonadales; f__Xanthomonadaceae; g__Stenotrophomonas; s__panacihumi']\n",
    "control = control[control.taxonomy.isin(taxonomies)] # Filtering"
   ]
  },
  {
   "cell_type": "code",
   "execution_count": 567,
   "id": "1b8635ad",
   "metadata": {},
   "outputs": [],
   "source": [
    "taxonomies = ['k__Bacteria; p__Actinobacteria; c__Actinobacteria; o__Actinomycetales',\n",
    "              'k__Bacteria; p__Actinobacteria; c__Actinobacteria; o__Actinomycetales; f__Actinomycetaceae; g__Actinomyces; s__',\n",
    "              'k__Bacteria; p__Actinobacteria; c__Actinobacteria; o__Actinomycetales; f__Brevibacteriaceae; g__Brevibacterium; s__',\n",
    "              'k__Bacteria; p__Actinobacteria; c__Actinobacteria; o__Actinomycetales; f__Corynebacteriaceae; g__Corynebacterium',\n",
    "              'k__Bacteria; p__Actinobacteria; c__Actinobacteria; o__Actinomycetales; f__Dermabacteraceae; g__Brachybacterium',\n",
    "              'k__Bacteria; p__Actinobacteria; c__Actinobacteria; o__Actinomycetales; f__Dermacoccaceae; g__Dermacoccus; s__',\n",
    "              'k__Bacteria; p__Actinobacteria; c__Actinobacteria; o__Actinomycetales; f__Dietziaceae; g__Dietzia; s__timorensis',\n",
    "              'k__Bacteria; p__Actinobacteria; c__Actinobacteria; o__Actinomycetales; f__Microbacteriaceae; g__Leucobacter; s__',\n",
    "              'k__Bacteria; p__Bacteroidetes; c__Cytophagia; o__Cytophagales; f__Cytophagaceae; g__Dyadobacter; s__',\n",
    "              'k__Bacteria; p__Bacteroidetes; c__Flavobacteriia; o__Flavobacteriales; f__[Weeksellaceae]; g__Chryseobacterium; s__',\n",
    "              'k__Bacteria; p__Firmicutes; c__Bacilli; o__Lactobacillales; f__Streptococcaceae; g__Lactococcus; s__',\n",
    "              'k__Bacteria; p__Firmicutes; c__Bacilli; o__Lactobacillales; f__Streptococcaceae; g__Lactococcus; s__garvieae',\n",
    "              'k__Bacteria; p__Proteobacteria; c__Gammaproteobacteria; o__Xanthomonadales; f__Xanthomonadaceae; g__Stenotrophomonas; s__']\n",
    "bsal_exposed = bsal_exposed[bsal_exposed.taxonomy.isin(taxonomies)] # Filtering"
   ]
  },
  {
   "cell_type": "code",
   "execution_count": 568,
   "id": "800aea6b",
   "metadata": {},
   "outputs": [],
   "source": [
    "control.drop('#OTU ID', axis=1, inplace=True)\n",
    "bsal_exposed.drop('#OTU ID', axis=1, inplace=True)"
   ]
  },
  {
   "cell_type": "code",
   "execution_count": 569,
   "id": "a9421200",
   "metadata": {},
   "outputs": [],
   "source": [
    "# The count values\n",
    "control_counts = control.iloc[:, :-1].values\n",
    "exposed_counts = bsal_exposed.iloc[:, :-1].values\n",
    "control_counts = pd.DataFrame(control_counts)\n",
    "exposed_counts = pd.DataFrame(exposed_counts)"
   ]
  },
  {
   "cell_type": "code",
   "execution_count": 570,
   "id": "42d877bf",
   "metadata": {},
   "outputs": [],
   "source": [
    "# The taxonomy column\n",
    "control = control.iloc[:, -1].values\n",
    "bsal_exposed = bsal_exposed.iloc[:, -1].values"
   ]
  },
  {
   "cell_type": "code",
   "execution_count": 571,
   "id": "fa84fe1e",
   "metadata": {},
   "outputs": [],
   "source": [
    "control_replaced = []\n",
    "bsal_exposed_replaced = []"
   ]
  },
  {
   "cell_type": "code",
   "execution_count": 597,
   "id": "f526dd41",
   "metadata": {},
   "outputs": [],
   "source": [
    "##for loop for every type of bacteria from the taxonomy \n",
    "\n",
    "stenos = ['k__Bacteria; p__Proteobacteria; c__Gammaproteobacteria; o__Xanthomonadales; f__Xanthomonadaceae; g__Stenotrophomonas', \n",
    "         'k__Bacteria; p__Proteobacteria; c__Gammaproteobacteria; o__Xanthomonadales; f__Xanthomonadaceae; g__Stenotrophomonas; s__', \n",
    "         'k__Bacteria; p__Proteobacteria; c__Gammaproteobacteria; o__Xanthomonadales; f__Xanthomonadaceae; g__Stenotrophomonas; s__acidaminiphila',\n",
    "         'k__Bacteria; p__Proteobacteria; c__Gammaproteobacteria; o__Xanthomonadales; f__Xanthomonadaceae; g__Stenotrophomonas; s__maltophilia',\n",
    "         'k__Bacteria; p__Proteobacteria; c__Gammaproteobacteria; o__Xanthomonadales; f__Xanthomonadaceae; g__Stenotrophomonas; s__panacihumi']\n",
    "\n",
    "for element in control:\n",
    "  if element == \"k__Bacteria; p__Bacteroidetes; c__Flavobacteriia; o__Flavobacteriales; f__[Weeksellaceae]; g__Chryseobacterium; s__\":\n",
    "    control_replaced.append(\"Chryseobacterium\")\n",
    "  elif element == \"k__Bacteria; p__Firmicutes; c__Bacilli; o__Lactobacillales; f__Streptococcaceae; g__Lactococcus; s__\":\n",
    "    control_replaced.append(\"Lactococcus\") \n",
    "  elif element in stenos:\n",
    "    control_replaced.append(\"Stenotrophomonas\")\n",
    "  elif element == \"k__Bacteria; p__Bacteroidetes; c__Cytophagia; o__Cytophagales; f__Cytophagaceae; g__Dyadobacter; s__\":\n",
    "    control_replaced.append(\"Dyadobacter\")\n",
    "  elif element == \"k__Bacteria; p__Actinobacteria; c__Actinobacteria; o__Actinomycetales\" or \"k__Bacteria; p__Actinobacteria; c__Actinobacteria; o__Actinomycetales; f__Actinomycetaceae; g__Actinomyces; s__\" or \"k__Bacteria; p__Actinobacteria; c__Actinobacteria; o__Actinomycetales; f__Brevibacteriaceae; g__Brevibacterium; s__\" or \"k__Bacteria; p__Actinobacteria; c__Actinobacteria; o__Actinomycetales; f__Brevibacteriaceae; g__Brevibacterium; s__aureum\" or \"k__Bacteria; p__Actinobacteria; c__Actinobacteria; o__Actinomycetales; f__Corynebacteriaceae; g__Corynebacterium\" or \"k__Bacteria; p__Actinobacteria; c__Actinobacteria; o__Actinomycetales; f__Corynebacteriaceae; g__Corynebacterium; s__\" or \"k__Bacteria; p__Actinobacteria; c__Actinobacteria; o__Actinomycetales; f__Dermabacteraceae; g__Brachybacterium\" or \"k__Bacteria; p__Actinobacteria; c__Actinobacteria; o__Actinomycetales; f__Dermacoccaceae; g__Dermacoccus; s__\" or \"k__Bacteria; p__Actinobacteria; c__Actinobacteria; o__Actinomycetales; f__Dietziaceae; g__Dietzia; s__timorensis\" or \"k__Bacteria; p__Actinobacteria; c__Actinobacteria; o__Actinomycetales; f__Dietziaceae; g__Dietzia; s__timorensis\" or \"k__Bacteria; p__Actinobacteria; c__Actinobacteria; o__Actinomycetales; f__Microbacteriaceae; g__Leucobacter; s__\":\n",
    "    control_replaced.append(\"Actinobacteria\")\n",
    "  elif element == \"k__Bacteria; p__Actinobacteria; c__Actinobacteria; o__Actinomycetales; f__Microbacteriaceae; g__Leucobacter; s__\":\n",
    "    control_replaced.append(\"Leucobacter\")\n",
    "  # else:\n",
    "  #   control_replaced.append(element)\n",
    "  "
   ]
  },
  {
   "cell_type": "code",
   "execution_count": 572,
   "id": "108ed4f5",
   "metadata": {},
   "outputs": [],
   "source": [
    "# for element in control:\n",
    "#   if element == \"k__Bacteria; p__Bacteroidetes; c__Flavobacteriia; o__Flavobacteriales; f__[Weeksellaceae]; g__Chryseobacterium; s__\":\n",
    "#     control_replaced.append(\"Chryseobacterium\")\n",
    "#   elif element == \"k__Bacteria; p__Firmicutes; c__Bacilli; o__Lactobacillales; f__Streptococcaceae; g__Lactococcus; s__\":\n",
    "#     control_replaced.append(\"Lactococcus\") \n",
    "#   elif element == \"k__Bacteria; p__Proteobacteria; c__Gammaproteobacteria; o__Xanthomonadales; f__Xanthomonadaceae; g__Stenotrophomonas; s__\":\n",
    "#     control_replaced.append(\"Stenotrophomonas\")\n",
    "#   elif element == \"k__Bacteria; p__Bacteroidetes; c__Cytophagia; o__Cytophagales; f__Cytophagaceae; g__Dyadobacter; s__\":\n",
    "#     control_replaced.append(\"Dyadobacter\")\n",
    "#   elif element == \"k__Bacteria; p__Actinobacteria; c__Actinobacteria; o__Actinomycetales\" or \"k__Bacteria; p__Actinobacteria; c__Actinobacteria; o__Actinomycetales; f__Actinomycetaceae; g__Actinomyces; s__\" or \"k__Bacteria; p__Actinobacteria; c__Actinobacteria; o__Actinomycetales; f__Brevibacteriaceae; g__Brevibacterium; s__\" or \"k__Bacteria; p__Actinobacteria; c__Actinobacteria; o__Actinomycetales; f__Brevibacteriaceae; g__Brevibacterium; s__aureum\" or \"k__Bacteria; p__Actinobacteria; c__Actinobacteria; o__Actinomycetales; f__Corynebacteriaceae; g__Corynebacterium\" or \"k__Bacteria; p__Actinobacteria; c__Actinobacteria; o__Actinomycetales; f__Corynebacteriaceae; g__Corynebacterium; s__\" or \"k__Bacteria; p__Actinobacteria; c__Actinobacteria; o__Actinomycetales; f__Dermabacteraceae; g__Brachybacterium\" or \"k__Bacteria; p__Actinobacteria; c__Actinobacteria; o__Actinomycetales; f__Dermacoccaceae; g__Dermacoccus; s__\" or \"k__Bacteria; p__Actinobacteria; c__Actinobacteria; o__Actinomycetales; f__Dietziaceae; g__Dietzia; s__timorensis\" or \"k__Bacteria; p__Actinobacteria; c__Actinobacteria; o__Actinomycetales; f__Dietziaceae; g__Dietzia; s__timorensis\" or \"k__Bacteria; p__Actinobacteria; c__Actinobacteria; o__Actinomycetales; f__Microbacteriaceae; g__Leucobacter; s__\":\n",
    "#     control_replaced.append(\"Actinobacteria\")\n",
    "#   elif element ==\"k__Bacteria; p__Actinobacteria; c__Actinobacteria; o__Actinomycetales; f__Microbacteriaceae; g__Leucobacter; s__\":\n",
    "#     control_replaced.append(\"Leucobacter\")\n",
    "\n",
    "#   # else:\n",
    "#   #   control_replaced.append(element)\n",
    "  "
   ]
  },
  {
   "cell_type": "code",
   "execution_count": 599,
   "id": "cda00b77",
   "metadata": {},
   "outputs": [],
   "source": [
    "##list of all the taxonomy found after filtering out \n",
    "Actinomycetales = ['k__Bacteria; p__Actinobacteria; c__Actinobacteria; o__Actinomycetales',\n",
    "       'k__Bacteria; p__Actinobacteria; c__Actinobacteria; o__Actinomycetales',\n",
    "       'k__Bacteria; p__Actinobacteria; c__Actinobacteria; o__Actinomycetales',\n",
    "       'k__Bacteria; p__Actinobacteria; c__Actinobacteria; o__Actinomycetales; f__Actinomycetaceae; g__Actinomyces; s__',\n",
    "       'k__Bacteria; p__Actinobacteria; c__Actinobacteria; o__Actinomycetales; f__Brevibacteriaceae; g__Brevibacterium; s__',\n",
    "       'k__Bacteria; p__Actinobacteria; c__Actinobacteria; o__Actinomycetales; f__Corynebacteriaceae; g__Corynebacterium',\n",
    "       'k__Bacteria; p__Actinobacteria; c__Actinobacteria; o__Actinomycetales; f__Dermabacteraceae; g__Brachybacterium',\n",
    "       'k__Bacteria; p__Actinobacteria; c__Actinobacteria; o__Actinomycetales; f__Dermacoccaceae; g__Dermacoccus; s__',\n",
    "       'k__Bacteria; p__Actinobacteria; c__Actinobacteria; o__Actinomycetales; f__Dietziaceae; g__Dietzia; s__timorensis']\n",
    "\n",
    "Leucobacter = ['k__Bacteria; p__Actinobacteria; c__Actinobacteria; o__Actinomycetales; f__Microbacteriaceae; g__Leucobacter; s__',\n",
    "       'k__Bacteria; p__Actinobacteria; c__Actinobacteria; o__Actinomycetales; f__Microbacteriaceae; g__Leucobacter; s__']\n",
    "\n",
    "Dyadobacter = ['k__Bacteria; p__Bacteroidetes; c__Cytophagia; o__Cytophagales; f__Cytophagaceae; g__Dyadobacter; s__',\n",
    "       'k__Bacteria; p__Bacteroidetes; c__Cytophagia; o__Cytophagales; f__Cytophagaceae; g__Dyadobacter; s__',\n",
    "       'k__Bacteria; p__Bacteroidetes; c__Cytophagia; o__Cytophagales; f__Cytophagaceae; g__Dyadobacter; s__',\n",
    "       'k__Bacteria; p__Bacteroidetes; c__Cytophagia; o__Cytophagales; f__Cytophagaceae; g__Dyadobacter; s__']\n",
    "\n",
    "Chryseobacterium = ['k__Bacteria; p__Bacteroidetes; c__Flavobacteriia; o__Flavobacteriales; f__[Weeksellaceae]; g__Chryseobacterium; s__',\n",
    "       'k__Bacteria; p__Bacteroidetes; c__Flavobacteriia; o__Flavobacteriales; f__[Weeksellaceae]; g__Chryseobacterium; s__',\n",
    "       'k__Bacteria; p__Bacteroidetes; c__Flavobacteriia; o__Flavobacteriales; f__[Weeksellaceae]; g__Chryseobacterium; s__',\n",
    "       'k__Bacteria; p__Bacteroidetes; c__Flavobacteriia; o__Flavobacteriales; f__[Weeksellaceae]; g__Chryseobacterium; s__',\n",
    "       'k__Bacteria; p__Bacteroidetes; c__Flavobacteriia; o__Flavobacteriales; f__[Weeksellaceae]; g__Chryseobacterium; s__',\n",
    "       'k__Bacteria; p__Bacteroidetes; c__Flavobacteriia; o__Flavobacteriales; f__[Weeksellaceae]; g__Chryseobacterium; s__',\n",
    "       'k__Bacteria; p__Bacteroidetes; c__Flavobacteriia; o__Flavobacteriales; f__[Weeksellaceae]; g__Chryseobacterium; s__',\n",
    "       'k__Bacteria; p__Bacteroidetes; c__Flavobacteriia; o__Flavobacteriales; f__[Weeksellaceae]; g__Chryseobacterium; s__',]\n",
    "\n",
    "Lactococcus = [  'k__Bacteria; p__Firmicutes; c__Bacilli; o__Lactobacillales; f__Streptococcaceae; g__Lactococcus; s__',\n",
    "       'k__Bacteria; p__Firmicutes; c__Bacilli; o__Lactobacillales; f__Streptococcaceae; g__Lactococcus; s__garvieae',]    \n",
    "\n",
    "Stenotrophomonas = ['k__Bacteria; p__Proteobacteria; c__Gammaproteobacteria; o__Xanthomonadales; f__Xanthomonadaceae; g__Stenotrophomonas; s__',\n",
    "       'k__Bacteria; p__Proteobacteria; c__Gammaproteobacteria; o__Xanthomonadales; f__Xanthomonadaceae; g__Stenotrophomonas; s__',\n",
    "       'k__Bacteria; p__Proteobacteria; c__Gammaproteobacteria; o__Xanthomonadales; f__Xanthomonadaceae; g__Stenotrophomonas; s__']\n",
    "\n",
    "for element in bsal_exposed:\n",
    "  if element in Chryseobacterium:\n",
    "    bsal_exposed_replaced.append(\"Chryseobacterium\")\n",
    "  elif element in Dyadobacter:\n",
    "    bsal_exposed_replaced.append(\"Dyadobacter\")\n",
    "  elif element in Stenotrophomonas:\n",
    "    bsal_exposed_replaced.append(\"Stenotrophomonas\")\n",
    "  elif element in Leucobacter:\n",
    "    bsal_exposed_replaced.append(\"Leucobacter\")\n",
    "  elif element in Lactococcus:\n",
    "    bsal_exposed_replaced.append(\"Lactococcus\") \n",
    "  elif element in Actinomycetales:\n",
    "    bsal_exposed_replaced.append(\"Actinomycetales\")  \n",
    "  else:\n",
    "    bsal_exposed_replaced.append(element)"
   ]
  },
  {
   "cell_type": "code",
   "execution_count": 574,
   "id": "08a374bf",
   "metadata": {},
   "outputs": [],
   "source": [
    "control_counts[\"taxonomy\"] = control_replaced\n",
    "exposed_counts[\"taxonomy\"] = bsal_exposed_replaced"
   ]
  },
  {
   "cell_type": "code",
   "execution_count": 761,
   "id": "9258bb30",
   "metadata": {},
   "outputs": [
    {
     "name": "stdout",
     "output_type": "stream",
     "text": [
      "   0  1  2  3  4  5  6  7  8  9   ... 14  15 16 17 18 19 20 21 22 23\n",
      "7   0  0  0  6  2  2  0  0  0  0  ...  1  16  1  1  2  5  4  0  1  2\n",
      "22  0  0  0  0  0  0  2  0  0  0  ...  0   1  0  2  0  0  0  0  0  0\n",
      "\n",
      "[2 rows x 24 columns]\n"
     ]
    }
   ],
   "source": [
    "# Creating a DataFrame for each microbe to do the further analysis\n",
    "chryseobacteriumControl = control_counts[control_counts.taxonomy == \"Chryseobacterium\"].iloc[:, :-1]\n",
    "# print(chryseobacteriumControl)\n",
    "lactococcusControl = control_counts[control_counts.taxonomy == \"Lactococcus\"].iloc[:, :-1]\n",
    "stenotrophomonasControl = control_counts[control_counts.taxonomy == \"Stenotrophomonas\"].iloc[:, :-1]\n",
    "# print(lactococcusControl)\n",
    "dyadobacterControl = control_counts[control_counts.taxonomy == \"Dyadobacter\"].iloc[:, :-1]\n",
    "actinobacteriaControl = control_counts[control_counts.taxonomy == \"Actinobacteria\"].iloc[:, :-1]\n",
    "leucobacterControl = control_counts[control_counts.taxonomy == \"Leucobacter\"].iloc[:, :-1]\n",
    "# print(dyadobacterControl)\n",
    "# print(stenotrophomonasControl)\n",
    "# minValuesstenotrophomonasControl= stenotrophomonasControl.min() ##Min values are zero and hence their relative abundance cant be calculated.\n",
    "# print(minValuesstenotrophomonasControl)\n",
    "actinobacteriaExposed = exposed_counts[exposed_counts.taxonomy == \"Actinomycetales\"].iloc[:, :-1]\n",
    "chryseobacteriumExposed = exposed_counts[exposed_counts.taxonomy == \"Chryseobacterium\"].iloc[:, :-1]\n",
    "# print(chryseobacteriumExposed)\n",
    "dyadobacterExposed = exposed_counts[exposed_counts.taxonomy == \"Dyadobacter\"].iloc[:, :-1] \n",
    "stenotrophomonasExposed = exposed_counts[exposed_counts.taxonomy == \"Stenotrophomonas\"].iloc[:, :-1]\n",
    "# print(stenotrophomonasExposed)\n",
    "leucobacterExposed = exposed_counts[exposed_counts.taxonomy == \"Leucobacter\"].iloc[:, :-1]\n",
    "# print(leucobacterExposed)\n",
    "lactococcusExposed = exposed_counts[exposed_counts.taxonomy == \"Lactococcus\"].iloc[:, :-1]"
   ]
  },
  {
   "cell_type": "code",
   "execution_count": 725,
   "id": "c6945e6f",
   "metadata": {},
   "outputs": [
    {
     "data": {
      "image/png": "[encoded data removed]",
      "text/plain": [
       "<Figure size 432x288 with 1 Axes>"
      ]
     },
     "metadata": {
      "needs_background": "light"
     },
     "output_type": "display_data"
    }
   ],
   "source": [
    "sum = [] ##taking the sum of all the values in the row to get the abundace of each of the sample in that bacteria.\n",
    "for i in range(len(chryseobacteriumControl)): #running a loop to get all the values with highest no. and then summing the total to divide and get the relative abundance.\n",
    "  sum.append(chryseobacteriumControl.iloc[i, :].sum())\n",
    "indices = sorted(range(len(sum)), key=lambda i: sum[i], reverse=True)[:6]\n",
    "toBePlotted = []\n",
    "for i in indices:\n",
    "  toBePlotted.append(chryseobacteriumControl.iloc[i, :].max()/sum[i]) #relative abundance. no. divided by the total of that bacteria\n",
    "plt.bar([i for i in range(len(indices))], toBePlotted) \n",
    "plt.title('chryseobacterium')\n",
    "plt.xlabel('chryseobacterium Control')\n",
    "plt.ylabel('Relative Abundance')\n",
    "plt.show()"
   ]
  },
  {
   "cell_type": "code",
   "execution_count": null,
   "id": "a42665ef",
   "metadata": {},
   "outputs": [],
   "source": []
  },
  {
   "cell_type": "code",
   "execution_count": 609,
   "id": "be1dfdd7",
   "metadata": {},
   "outputs": [
    {
     "data": {
      "image/png": "[encoded data removed]",
      "text/plain": [
       "<Figure size 432x288 with 1 Axes>"
      ]
     },
     "metadata": {
      "needs_background": "light"
     },
     "output_type": "display_data"
    }
   ],
   "source": [
    "sum = [] ##taking the sum of all the values in the row to get the abundace of each of the sample in that bacteria.\n",
    "for i in range(len(lactococcusControl)): #running a loop to get all the values with highest no. and then summing the total to divide and get the relative abundance.\n",
    "  sum.append(lactococcusControl.iloc[i, :].sum())\n",
    "indices = sorted(range(len(sum)), key=lambda i: sum[i], reverse=True)[:6]\n",
    "toBePlotted = []\n",
    "for i in indices:\n",
    "  toBePlotted.append(lactococcusControl.iloc[i, :].max()/sum[i]) #relative abundance. no. divided by the total of that bacteria\n",
    "plt.bar([i for i in range(len(indices))], toBePlotted) \n",
    "plt.title('Lactococcus')\n",
    "plt.xlabel('lactococcus Control')\n",
    "plt.ylabel('Relative Abundance')\n",
    "plt.show()"
   ]
  },
  {
   "cell_type": "code",
   "execution_count": 653,
   "id": "49656d2a",
   "metadata": {},
   "outputs": [
    {
     "data": {
      "image/png": "[encoded data removed]",
      "text/plain": [
       "<Figure size 432x288 with 1 Axes>"
      ]
     },
     "metadata": {
      "needs_background": "light"
     },
     "output_type": "display_data"
    }
   ],
   "source": [
    "sum = [] ##taking the sum of all the values in the row to get the abundace of each of the sample in that bacteria.\n",
    "for i in range(len(dyadobacterControl)): #running a loop to get all the values with highest no. and then summing the total to divide and get the relative abundance.\n",
    "  sum.append(dyadobacterControl.iloc[i, :].sum())\n",
    "indices = sorted(range(len(sum)), key=lambda i: sum[i], reverse=True)[:6]\n",
    "toBePlotted = []\n",
    "for i in indices:\n",
    "  toBePlotted.append(dyadobacterControl.iloc[i, :].max()/sum[i])#relative abundance. no. divided by the total of that bacteria\n",
    "plt.bar([i for i in range(len(indices))], toBePlotted) \n",
    "plt.title('dyadobacter')\n",
    "plt.xlabel('dyadobacter Control')\n",
    "plt.ylabel('Relative Abundance')\n",
    "plt.show()"
   ]
  },
  {
   "cell_type": "code",
   "execution_count": 654,
   "id": "47a5aedf",
   "metadata": {},
   "outputs": [
    {
     "data": {
      "image/png": "[encoded data removed]",
      "text/plain": [
       "<Figure size 432x288 with 1 Axes>"
      ]
     },
     "metadata": {
      "needs_background": "light"
     },
     "output_type": "display_data"
    }
   ],
   "source": [
    "sum = [] ##taking the sum of all the values in the row to get the abundace of each of the sample in that bacteria\n",
    "for i in range(len(actinobacteriaControl)): #running a loop to get all the values with highest no. and then summing the total to divide and get the relative abundance.\n",
    "  sum.append(actinobacteriaControl.iloc[i, :].sum())\n",
    "indices = sorted(range(len(sum)), key=lambda i: sum[i], reverse=True)[:6]\n",
    "toBePlotted = []\n",
    "for i in indices:\n",
    "  toBePlotted.append(actinobacteriaControl.iloc[i, :].max()/sum[i]) #relative abundance. no. divided by the total of that bacteria\n",
    "plt.bar([i for i in range(len(indices))], toBePlotted) \n",
    "plt.title('actinobacteria')\n",
    "plt.xlabel('actinobacteria Control')\n",
    "plt.ylabel('Relative Abundance')\n",
    "plt.show()"
   ]
  },
  {
   "cell_type": "code",
   "execution_count": 655,
   "id": "826a26b3",
   "metadata": {},
   "outputs": [
    {
     "data": {
      "image/png": "[encoded data removed]",
      "text/plain": [
       "<Figure size 432x288 with 1 Axes>"
      ]
     },
     "metadata": {
      "needs_background": "light"
     },
     "output_type": "display_data"
    }
   ],
   "source": [
    "sum = [] ##taking the sum of all the values in the row to get the abundace of each of the sample in that bacteria\n",
    "for i in range(len(actinobacteriaExposed)): #running a loop to get all the values with highest no. and then summing the total to divide and get the relative abundance.\n",
    "  sum.append(actinobacteriaExposed.iloc[i, :].sum())\n",
    "indices = sorted(range(len(sum)), key=lambda i: sum[i], reverse=True)[:6]\n",
    "toBePlotted = []\n",
    "for i in indices:\n",
    "  toBePlotted.append(actinobacteriaExposed.iloc[i, :].max()/sum[i]) #relative abundance. no. divided by the total of that bacteria\n",
    "plt.bar([i for i in range(len(indices))], toBePlotted) \n",
    "plt.title('actinobacteria')\n",
    "plt.xlabel('actinobacteria Exposed')\n",
    "plt.ylabel('Relative Abundance')\n",
    "plt.show()"
   ]
  },
  {
   "cell_type": "code",
   "execution_count": 618,
   "id": "bda38490",
   "metadata": {},
   "outputs": [
    {
     "data": {
      "image/png": "[encoded data removed]",
      "text/plain": [
       "<Figure size 432x288 with 1 Axes>"
      ]
     },
     "metadata": {
      "needs_background": "light"
     },
     "output_type": "display_data"
    }
   ],
   "source": [
    "sum = [] ##taking the sum of all the values in the row to get the abundace of each of the sample in that bacteria\n",
    "for i in range(len(chryseobacteriumExposed)): #running a loop to get all the values with highest no. and then summing the total to divide and get the relative abundance.\n",
    "  sum.append(chryseobacteriumExposed.iloc[i, :].sum())\n",
    "indices = sorted(range(len(sum)), key=lambda i: sum[i], reverse=True)[:6]\n",
    "toBePlotted = []\n",
    "for i in indices:\n",
    "  toBePlotted.append(chryseobacteriumExposed.iloc[i, :].max()/sum[i]) #relative abundance. no. divided by the total of that bacteria\n",
    "plt.bar([i for i in range(len(indices))], toBePlotted) \n",
    "plt.title('chryseobacterium')\n",
    "plt.xlabel('chryseobacterium Exposed')\n",
    "plt.ylabel('Relative Abundance')\n",
    "plt.show()"
   ]
  },
  {
   "cell_type": "code",
   "execution_count": 616,
   "id": "38c07c48",
   "metadata": {},
   "outputs": [
    {
     "data": {
      "image/png": "[encoded data removed]",
      "text/plain": [
       "<Figure size 432x288 with 1 Axes>"
      ]
     },
     "metadata": {
      "needs_background": "light"
     },
     "output_type": "display_data"
    }
   ],
   "source": [
    "sum = [] ##taking the sum of all the values in the row to get the abundace of each of the sample in that bacteria\n",
    "for i in range(len(dyadobacterExposed)): #running a loop to get all the values with highest no. and then summing the total to divide and get the relative abundance.\n",
    "  sum.append(dyadobacterExposed.iloc[i, :].sum())\n",
    "indices = sorted(range(len(sum)), key=lambda i: sum[i], reverse=True)[:6]\n",
    "toBePlotted = []\n",
    "for i in indices:\n",
    "  toBePlotted.append(dyadobacterExposed.iloc[i, :].max()/sum[i]) #relative abundance. no. divided by the total of that bacteria\n",
    "plt.bar([i for i in range(len(indices))], toBePlotted) \n",
    "plt.title('dyadobacter')\n",
    "plt.xlabel('dyadobacter Exposed')\n",
    "plt.ylabel('Relative Abundance')\n",
    "plt.show()"
   ]
  },
  {
   "cell_type": "code",
   "execution_count": 613,
   "id": "10b4eaf1",
   "metadata": {},
   "outputs": [
    {
     "data": {
      "image/png": "[encoded data removed]",
      "text/plain": [
       "<Figure size 432x288 with 1 Axes>"
      ]
     },
     "metadata": {
      "needs_background": "light"
     },
     "output_type": "display_data"
    }
   ],
   "source": [
    "sum = [] ##taking the sum of all the values in the row to get the abundace of each of the sample in that bacteria\n",
    "for i in range(len(stenotrophomonasExposed)): #running a loop to get all the values with highest no. and then summing the total to divide and get the relative abundance.\n",
    "  sum.append(stenotrophomonasExposed.iloc[i, :].sum())\n",
    "indices = sorted(range(len(sum)), key=lambda i: sum[i], reverse=True)[:6]\n",
    "toBePlotted = []\n",
    "for i in indices:\n",
    "  toBePlotted.append(stenotrophomonasExposed.iloc[i, :].max()/sum[i]) #relative abundance. no. divided by the total of that bacteria\n",
    "plt.bar([i for i in range(len(indices))], toBePlotted) \n",
    "plt.title('stenotrophomonas')\n",
    "plt.xlabel('stenotrophomonas Exposed')\n",
    "plt.ylabel('Relative Abundance')\n",
    "plt.show()"
   ]
  },
  {
   "cell_type": "code",
   "execution_count": 658,
   "id": "49e3a16f",
   "metadata": {},
   "outputs": [
    {
     "data": {
      "image/png": "[encoded data removed]",
      "text/plain": [
       "<Figure size 432x288 with 1 Axes>"
      ]
     },
     "metadata": {
      "needs_background": "light"
     },
     "output_type": "display_data"
    }
   ],
   "source": [
    "sum = [] ##taking the sum of all the values in the row to get the abundace of each of the sample in that bacteria\n",
    "for i in range(len(leucobacterExposed)): #running a loop to get all the values with highest no. and then summing the total to divide and get the relative abundance.\n",
    "  sum.append(leucobacterExposed.iloc[i, :].sum())\n",
    "indices = sorted(range(len(sum)), key=lambda i: sum[i], reverse=True)[:6]\n",
    "toBePlotted = []\n",
    "for i in indices:\n",
    "   toBePlotted.append(leucobacterExposed.iloc[i, :].max()/sum[i]) #relative abundance. no. divided by the total of that bacteria\n",
    "\n",
    "plt.bar([i for i in range(len(indices))], toBePlotted) \n",
    "plt.title('leucobacter')\n",
    "plt.xlabel('leucobacter Exposed')\n",
    "plt.ylabel('Relative Abundance')\n",
    "plt.show()\n",
    "# print(leucobacterExposed)"
   ]
  },
  {
   "cell_type": "code",
   "execution_count": 610,
   "id": "f4558d56",
   "metadata": {},
   "outputs": [
    {
     "data": {
      "image/png": "[encoded data removed]",
      "text/plain": [
       "<Figure size 432x288 with 1 Axes>"
      ]
     },
     "metadata": {
      "needs_background": "light"
     },
     "output_type": "display_data"
    }
   ],
   "source": [
    "sum = [] ##taking the sum of all the values in the row to get the abundace of each of the sample in that bacteria\n",
    "for i in range(len(lactococcusExposed)): #running a loop to get all the values with highest no. and then summing the total to divide and get the relative abundance.\n",
    "  sum.append(lactococcusExposed.iloc[i, :].sum())\n",
    "indices = sorted(range(len(sum)), key=lambda i: sum[i], reverse=True)[:6]\n",
    "toBePlotted = []\n",
    "for i in indices:\n",
    "  toBePlotted.append(lactococcusExposed.iloc[i, :].max()/sum[i]) #relative abundance. no. divided by the total of that bacteria\n",
    "plt.bar([i for i in range(len(indices))], toBePlotted) \n",
    "plt.title('Lactococcus')\n",
    "plt.xlabel('lactococcus Exposed')\n",
    "plt.ylabel('Relative Abundance')\n",
    "plt.show()"
   ]
  },
  {
   "cell_type": "code",
   "execution_count": 611,
   "id": "2d01b372",
   "metadata": {},
   "outputs": [
    {
     "data": {
      "image/png": "[encoded data removed]",
      "text/plain": [
       "<Figure size 432x288 with 1 Axes>"
      ]
     },
     "metadata": {
      "needs_background": "light"
     },
     "output_type": "display_data"
    }
   ],
   "source": [
    "sum = [] ##taking the sum of all the values in the row to get the abundace of each of the sample in that bacteria\n",
    "for i in range(len(leucobacterControl)): #running a loop to get all the values with highest no. and then summing the total to divide and get the relative abundance.\n",
    "    sum.append(leucobacterControl.iloc[i, :].sum())\n",
    "indices = sorted(range(len(sum)), key=lambda i: sum[i], reverse=True)[:2]\n",
    "toBePlotted = []\n",
    "for i in indices:\n",
    "    toBePlotted.append(leucobacterControl.iloc[i, :].max()/sum[i]) #relative abundance. no. divided by the total of that bacteria\n",
    "# plt.bar([i for i in range(len(indices))], toBePlotted) \n",
    "plt.bar([1, 2, 3, 4], [0.28, 0.28, 0.28, 0.14]) \n",
    "plt.title('leucobacter')\n",
    "plt.xlabel('leucobacter Control')\n",
    "plt.ylabel('Relative Abundance')\n",
    "plt.show()\n",
    "###i was unable to filter out values from leucobacter in control for some weird reason so, i manually calulted the value and plotted. "
   ]
  },
  {
   "cell_type": "code",
   "execution_count": 620,
   "id": "91d242bc",
   "metadata": {},
   "outputs": [
    {
     "data": {
      "image/png": "[encoded data removed]",
      "text/plain": [
       "<Figure size 432x288 with 1 Axes>"
      ]
     },
     "metadata": {
      "needs_background": "light"
     },
     "output_type": "display_data"
    }
   ],
   "source": [
    "sum = [] ##taking the sum of all the values in the row to get the abundace of each of the sample in that bacteria\n",
    "for i in range(len(stenotrophomonasControl)): #running a loop to get all the values with highest no. and then summing the total to divide and get the relative abundance.\n",
    "  sum.append(stenotrophomonasControl.iloc[i, :].sum())\n",
    "indices = sorted(range(len(sum)), key=lambda i: sum[i], reverse=True)[:6]\n",
    "toBePlotted = []\n",
    "for i in indices:\n",
    "  toBePlotted.append(stenotrophomonasControl.iloc[i, :].max()/sum[i]) #relative abundance. no. divided by the total of that bacteria\n",
    "plt.bar([i for i in range(len(indices))], toBePlotted) \n",
    "plt.title('stenotrophomonas')\n",
    "plt.xlabel('stenotrophomonas Control') \n",
    "plt.ylabel('Relative Abundance')\n",
    "plt.show()"
   ]
  },
  {
   "cell_type": "code",
   "execution_count": null,
   "id": "fea6bb8a",
   "metadata": {},
   "outputs": [],
   "source": []
  },
  {
   "cell_type": "markdown",
   "id": "5362de16",
   "metadata": {},
   "source": [
    "# PLOTS With the ABUNDANCE ALONG THE COLUMN (SAMPLES\n",
    "\n",
    "Note: Same as above plots just that it is considering the values along the axis 0 which are the samples having all the bacterial population."
   ]
  },
  {
   "cell_type": "code",
   "execution_count": 750,
   "id": "03d7c294",
   "metadata": {},
   "outputs": [
    {
     "data": {
      "image/png": "[encoded data removed]",
      "text/plain": [
       "<Figure size 432x288 with 1 Axes>"
      ]
     },
     "metadata": {
      "needs_background": "light"
     },
     "output_type": "display_data"
    }
   ],
   "source": [
    "###newplot\n",
    "sum = []\n",
    "for i in range(len(chryseobacteriumControl[0])):\n",
    "  sum.append(chryseobacteriumControl.iloc[:, i].sum())\n",
    "\n",
    "indices = sorted(range(len(sum)), key=lambda i: sum[i], reverse=True)[:6]\n",
    "toBePlotted = []\n",
    "for i in indices:\n",
    "  toBePlotted.append(chryseobacteriumControl.iloc[:,i].max()/sum[i])\n",
    "plt.bar([i for i in range(len(indices))], toBePlotted) \n",
    "plt.title('chryseobacterium')\n",
    "plt.xlabel('chryseobacterium Control')\n",
    "plt.ylabel('Relative Abundance')\n",
    "plt.show()"
   ]
  },
  {
   "cell_type": "code",
   "execution_count": 748,
   "id": "272c639b",
   "metadata": {},
   "outputs": [],
   "source": [
    "\n",
    "# sum = []\n",
    "# for i in range(len(lactococcusControl[0])):\n",
    "#   sum.append(lactococcusControl.iloc[:,i].sum())\n",
    "# indices = sorted(range(len(sum)), key=lambda i: sum[i], reverse=True)[:6]\n",
    "# toBePlotted = []\n",
    "# for i in indices:\n",
    "#   toBePlotted.append(lactococcusControl.iloc[:, i].max()/sum[i])\n",
    "# plt.bar([i for i in range(len(indices))], toBePlotted) "
   ]
  },
  {
   "cell_type": "code",
   "execution_count": 751,
   "id": "6792d8e0",
   "metadata": {},
   "outputs": [
    {
     "data": {
      "image/png": "[encoded data removed]",
      "text/plain": [
       "<Figure size 432x288 with 1 Axes>"
      ]
     },
     "metadata": {
      "needs_background": "light"
     },
     "output_type": "display_data"
    }
   ],
   "source": [
    "sum = []\n",
    "for i in range(len(dyadobacterControl[0])):\n",
    "  sum.append(dyadobacterControl.iloc[:,i].sum())\n",
    "indices = sorted(range(len(sum)), key=lambda i: sum[i], reverse=True)[:6]\n",
    "toBePlotted = []\n",
    "for i in indices:\n",
    "  toBePlotted.append(dyadobacterControl.iloc[:,i].max()/sum[i])\n",
    "plt.bar([i for i in range(len(indices))], toBePlotted) \n",
    "plt.title('dyadobacterControl')\n",
    "plt.xlabel('dyadobacterControl')\n",
    "plt.ylabel('Relative Abundance')\n",
    "plt.show()"
   ]
  },
  {
   "cell_type": "code",
   "execution_count": 752,
   "id": "8a797845",
   "metadata": {},
   "outputs": [
    {
     "data": {
      "image/png": "[encoded data removed]",
      "text/plain": [
       "<Figure size 432x288 with 1 Axes>"
      ]
     },
     "metadata": {
      "needs_background": "light"
     },
     "output_type": "display_data"
    }
   ],
   "source": [
    "sum = []\n",
    "for i in range(len(actinobacteriaControl[0])):\n",
    "  sum.append(actinobacteriaControl.iloc[:,i].sum())\n",
    "indices = sorted(range(len(sum)), key=lambda i: sum[i], reverse=True)[:6]\n",
    "toBePlotted = []\n",
    "for i in indices:\n",
    "  toBePlotted.append(actinobacteriaControl.iloc[:,i].max()/sum[i])\n",
    "plt.bar([i for i in range(len(indices))], toBePlotted) \n",
    "plt.title('actinobacteria')\n",
    "plt.xlabel('actinobacteria Control')\n",
    "plt.ylabel('Relative Abundance')\n",
    "plt.show()"
   ]
  },
  {
   "cell_type": "code",
   "execution_count": 754,
   "id": "7191a796",
   "metadata": {},
   "outputs": [
    {
     "data": {
      "image/png": "[encoded data removed]",
      "text/plain": [
       "<Figure size 432x288 with 1 Axes>"
      ]
     },
     "metadata": {
      "needs_background": "light"
     },
     "output_type": "display_data"
    }
   ],
   "source": [
    "sum = []\n",
    "for i in range(len(actinobacteriaExposed[0])):\n",
    "  sum.append(actinobacteriaExposed.iloc[:,i].sum())\n",
    "indices = sorted(range(len(sum)), key=lambda i: sum[i], reverse=True)[:6]\n",
    "toBePlotted = []\n",
    "for i in indices:\n",
    "  toBePlotted.append(actinobacteriaExposed.iloc[:,i].max()/sum[i])\n",
    "plt.bar([i for i in range(len(indices))], toBePlotted) \n",
    "plt.title('actinobacteria')\n",
    "plt.xlabel('actinobacteria Exposed')\n",
    "plt.ylabel('Relative Abundance')\n",
    "plt.show()"
   ]
  },
  {
   "cell_type": "code",
   "execution_count": 755,
   "id": "455facc2",
   "metadata": {},
   "outputs": [
    {
     "data": {
      "image/png": "[encoded data removed]",
      "text/plain": [
       "<Figure size 432x288 with 1 Axes>"
      ]
     },
     "metadata": {
      "needs_background": "light"
     },
     "output_type": "display_data"
    }
   ],
   "source": [
    "sum = []\n",
    "for i in range(len(chryseobacteriumExposed[0])):\n",
    "  sum.append(chryseobacteriumExposed.iloc[:,i].sum())\n",
    "indices = sorted(range(len(sum)), key=lambda i: sum[i], reverse=True)[:6]\n",
    "toBePlotted = []\n",
    "for i in indices:\n",
    "  toBePlotted.append(chryseobacteriumExposed.iloc[:,i].max()/sum[i])\n",
    "plt.bar([i for i in range(len(indices))], toBePlotted) \n",
    "plt.title('chryseobacterium')\n",
    "plt.xlabel('chryseobacterium Exposed')\n",
    "plt.ylabel('Relative Abundance')\n",
    "plt.show()"
   ]
  },
  {
   "cell_type": "code",
   "execution_count": 756,
   "id": "f23f48a7",
   "metadata": {},
   "outputs": [
    {
     "data": {
      "image/png": "[encoded data removed]",
      "text/plain": [
       "<Figure size 432x288 with 1 Axes>"
      ]
     },
     "metadata": {
      "needs_background": "light"
     },
     "output_type": "display_data"
    }
   ],
   "source": [
    "sum = []\n",
    "for i in range(len(dyadobacterExposed[0])):\n",
    "  sum.append(dyadobacterExposed.iloc[:,i].sum())\n",
    "indices = sorted(range(len(sum)), key=lambda i: sum[i], reverse=True)[:6]\n",
    "toBePlotted = []\n",
    "for i in indices:\n",
    "  toBePlotted.append(dyadobacterExposed.iloc[:,i].max()/sum[i])\n",
    "plt.bar([i for i in range(len(indices))], toBePlotted) \n",
    "plt.title('dyadobacter')\n",
    "plt.xlabel('dyadobacter Exposed')\n",
    "plt.ylabel('Relative Abundance')\n",
    "plt.show()"
   ]
  },
  {
   "cell_type": "code",
   "execution_count": 757,
   "id": "07427308",
   "metadata": {},
   "outputs": [
    {
     "data": {
      "image/png": "[encoded data removed]",
      "text/plain": [
       "<Figure size 432x288 with 1 Axes>"
      ]
     },
     "metadata": {
      "needs_background": "light"
     },
     "output_type": "display_data"
    }
   ],
   "source": [
    "sum = []\n",
    "for i in range(len(stenotrophomonasExposed[0])):\n",
    "  sum.append(stenotrophomonasExposed.iloc[:,i].sum())\n",
    "indices = sorted(range(len(sum)), key=lambda i: sum[i], reverse=True)[:6]\n",
    "toBePlotted = []\n",
    "for i in indices:\n",
    "  toBePlotted.append(stenotrophomonasExposed.iloc[:,i].max()/sum[i])\n",
    "plt.bar([i for i in range(len(indices))], toBePlotted) \n",
    "plt.title('stenotrophomonas')\n",
    "plt.xlabel('stenotrophomonas Exposed')\n",
    "plt.ylabel('Relative Abundance')\n",
    "plt.show()"
   ]
  },
  {
   "cell_type": "code",
   "execution_count": 762,
   "id": "e307cd72",
   "metadata": {},
   "outputs": [],
   "source": [
    "\n",
    "# sum = []\n",
    "# for i in range(len(leucobacterExposed[0])):\n",
    "#   sum.append(leucobacterExposed.iloc[:,i].sum())\n",
    "# indices = sorted(range(len(sum)), key=lambda i: sum[i], reverse=True)[:6]\n",
    "# toBePlotted = []\n",
    "# for i in indices:\n",
    "#   toBePlotted.append(leucobacterExposed.iloc[:,i].max()/sum[i]) \n",
    "# plt.bar([i for i in range(len(indices))], toBePlotted) "
   ]
  },
  {
   "cell_type": "code",
   "execution_count": 758,
   "id": "825ca17c",
   "metadata": {},
   "outputs": [
    {
     "data": {
      "image/png": "[encoded data removed]",
      "text/plain": [
       "<Figure size 432x288 with 1 Axes>"
      ]
     },
     "metadata": {
      "needs_background": "light"
     },
     "output_type": "display_data"
    }
   ],
   "source": [
    "sum = []\n",
    "for i in range(len(lactococcusExposed[0])):\n",
    "  sum.append(lactococcusExposed.iloc[:,i].sum())\n",
    "indices = sorted(range(len(sum)), key=lambda i: sum[i], reverse=True)[:6]\n",
    "toBePlotted = []\n",
    "for i in indices:\n",
    "  toBePlotted.append(lactococcusExposed.iloc[:,i].max()/sum[i])\n",
    "plt.bar([i for i in range(len(indices))], toBePlotted) \n",
    "plt.title('lactococcus')\n",
    "plt.xlabel('lactococcus Exposed')\n",
    "plt.ylabel('Relative Abundance')\n",
    "plt.show()"
   ]
  },
  {
   "cell_type": "code",
   "execution_count": 738,
   "id": "c42a07b0",
   "metadata": {},
   "outputs": [
    {
     "data": {
      "image/png": "[encoded data removed]",
      "text/plain": [
       "<Figure size 432x288 with 1 Axes>"
      ]
     },
     "metadata": {
      "needs_background": "light"
     },
     "output_type": "display_data"
    }
   ],
   "source": [
    "sum = [] ##ALONG THE COLUMN\n",
    "for i in range(len(stenotrophomonasControl[0])): #running a loop to get all the values with highest no. and then summing the total to divide and get the relative abundance.\n",
    "  sum.append(stenotrophomonasControl.iloc[:,i].sum())\n",
    "indices = sorted(range(len(sum)), key=lambda i: sum[i], reverse=True)[:6]\n",
    "toBePlotted = []\n",
    "for i in indices:\n",
    "  toBePlotted.append(stenotrophomonasControl.iloc[:,i].max()/sum[i]) #relative abundance. no. divided by the total of that bacteria\n",
    "plt.bar([i for i in range(len(indices))], toBePlotted) \n",
    "plt.title('stenotrophomonas')\n",
    "plt.xlabel('stenotrophomonas Control') \n",
    "plt.ylabel('Relative Abundance')\n",
    "plt.show()"
   ]
  },
  {
   "cell_type": "code",
   "execution_count": 739,
   "id": "3b1e92e4",
   "metadata": {},
   "outputs": [
    {
     "data": {
      "image/png": "[encoded data removed]",
      "text/plain": [
       "<Figure size 432x288 with 1 Axes>"
      ]
     },
     "metadata": {
      "needs_background": "light"
     },
     "output_type": "display_data"
    }
   ],
   "source": [
    "sum = [] ##taking the sum of all the values in the row to get the abundace of each of the sample in that bacteria\n",
    "for i in range(len(leucobacterControl[0])): #running a loop to get all the values with highest no. and then summing the total to divide and get the relative abundance.\n",
    "    sum.append(leucobacterControl.iloc[:,i].sum())\n",
    "indices = sorted(range(len(sum)), key=lambda i: sum[i], reverse=True)[:2]\n",
    "toBePlotted = []\n",
    "for i in indices:\n",
    "    toBePlotted.append(leucobacterControl.iloc[:,i].max()/sum[i]) #relative abundance. no. divided by the total of that bacteria\n",
    "# plt.bar([i for i in range(len(indices))], toBePlotted) \n",
    "plt.bar([1, 2, 3, 4], [0.28, 0.28, 0.28, 0.14]) \n",
    "plt.title('leucobacter')\n",
    "plt.xlabel('leucobacter Control')\n",
    "plt.ylabel('Relative Abundance')\n",
    "plt.show()\n",
    "###i was unable to filter out values from leucobacter in control for some weird reason so, i manually calulted the value and plotted. "
   ]
  },
  {
   "cell_type": "code",
   "execution_count": 740,
   "id": "20f75b46",
   "metadata": {},
   "outputs": [],
   "source": [
    "# for minimum value of control samples. But all the min values are zerors.\n",
    "# sum = [] ##taking the sum of all the values in the row to get the abundace of each of the sample in that bacteria\n",
    "# for i in range(len(lactococcusControl)): #running a loop to get all the values with highest no. and then summing the total to divide and get the relative abundance.\n",
    "#   sum.append(lactococcusControl.iloc[i, :].sum())\n",
    "# indices = sorted(range(len(sum)), key=lambda i: sum[i], reverse=True)[:6]\n",
    "# toBePlotted = []\n",
    "# for i in indices:\n",
    "#   toBePlotted.append(np.min(lactococcusControl.iloc[i, :])) #relative abundance. no. divided by the total of that bacteria\n",
    "# plt.bar([i for i in range(len(indices))], toBePlotted) \n",
    "# plt.title('Lactococcus')\n",
    "# plt.xlabel('lactococcus Control')\n",
    "# plt.ylabel('Relative Abundance')\n",
    "# plt.show()\n",
    "\n",
    "# minValueslactococcusControl=lactococcusControl.min()\n",
    "# print(minValueslactococcusControl)"
   ]
  },
  {
   "cell_type": "markdown",
   "id": "91b0bbe0",
   "metadata": {},
   "source": [
    "# Figure 2A (extra content)\n",
    "In the datafile, it was only given that they used this file to do the analysis. "
   ]
  },
  {
   "cell_type": "code",
   "execution_count": 588,
   "id": "cb2ef86c",
   "metadata": {},
   "outputs": [],
   "source": [
    "df = pd.read_excel('/Users/aasthapal/Downloads/SALAMANDER.xlsx', sheet_name=9)"
   ]
  },
  {
   "cell_type": "code",
   "execution_count": 589,
   "id": "8b7925c3",
   "metadata": {},
   "outputs": [],
   "source": [
    "df_tbu = df.get([\"Bsal Infection Intensity, clinical scores, time to death, and survival data ssociated with salamanders in the bacterial addition experiment \", \"Unnamed: 30\", \"Unnamed: 31\"])"
   ]
  },
  {
   "cell_type": "code",
   "execution_count": 590,
   "id": "deb9ef78",
   "metadata": {},
   "outputs": [],
   "source": [
    "df_tbu = df_tbu.drop([0])"
   ]
  },
  {
   "cell_type": "code",
   "execution_count": 591,
   "id": "3997e8e7",
   "metadata": {},
   "outputs": [],
   "source": [
    "df_grouped = df_tbu.groupby(\"Bsal Infection Intensity, clinical scores, time to death, and survival data ssociated with salamanders in the bacterial addition experiment \")"
   ]
  },
  {
   "cell_type": "code",
   "execution_count": 592,
   "id": "ee1860aa",
   "metadata": {},
   "outputs": [],
   "source": [
    "list_pseudo = df_grouped.get_group(\"Pseudo\")['Unnamed: 30']\n",
    "list_StenRizo = df_grouped.get_group(\"Sten.rhizo\")['Unnamed: 30']\n",
    "list_controlNoTreatment = df_grouped.get_group(\"Control (No Treatment)\")['Unnamed: 30']\n",
    "list_steno = df_grouped.get_group(\"Steno\")['Unnamed: 30']\n",
    "list_agarRinse = df_grouped.get_group(\"Control (Agar rinse)\")['Unnamed: 30']"
   ]
  },
  {
   "cell_type": "code",
   "execution_count": 593,
   "id": "9fd01d9f",
   "metadata": {},
   "outputs": [
    {
     "data": {
      "text/plain": [
       "8     28\n",
       "10    35\n",
       "11    63\n",
       "14    32\n",
       "16    39\n",
       "17    28\n",
       "Name: Unnamed: 30, dtype: object"
      ]
     },
     "execution_count": 593,
     "metadata": {},
     "output_type": "execute_result"
    }
   ],
   "source": [
    "list_pseudo = list_pseudo.dropna(axis=0, how=\"any\", inplace=False)\n",
    "list_pseudo"
   ]
  },
  {
   "cell_type": "code",
   "execution_count": 594,
   "id": "fa829b6f",
   "metadata": {},
   "outputs": [
    {
     "data": {
      "text/html": [
       "<div>\n",
       "<style scoped>\n",
       "    .dataframe tbody tr th:only-of-type {\n",
       "        vertical-align: middle;\n",
       "    }\n",
       "\n",
       "    .dataframe tbody tr th {\n",
       "        vertical-align: top;\n",
       "    }\n",
       "\n",
       "    .dataframe thead th {\n",
       "        text-align: right;\n",
       "    }\n",
       "</style>\n",
       "<table border=\"1\" class=\"dataframe\">\n",
       "  <thead>\n",
       "    <tr style=\"text-align: right;\">\n",
       "      <th></th>\n",
       "      <th>Bacterial abundance and density estimates for salamanders in Bsal Exposure Experiment</th>\n",
       "      <th>Unnamed: 1</th>\n",
       "      <th>Unnamed: 2</th>\n",
       "      <th>Unnamed: 3</th>\n",
       "      <th>Unnamed: 4</th>\n",
       "      <th>Unnamed: 5</th>\n",
       "      <th>Unnamed: 6</th>\n",
       "    </tr>\n",
       "  </thead>\n",
       "  <tbody>\n",
       "    <tr>\n",
       "      <th>0</th>\n",
       "      <td>Sample ID</td>\n",
       "      <td>Individual ID</td>\n",
       "      <td>Bacterial Abundance Estimate (qPCR)</td>\n",
       "      <td>Bacterial Density (per mm2)</td>\n",
       "      <td>Log Bacterial Density</td>\n",
       "      <td>Timepoint</td>\n",
       "      <td>Treatment</td>\n",
       "    </tr>\n",
       "    <tr>\n",
       "      <th>1</th>\n",
       "      <td>1A</td>\n",
       "      <td>1</td>\n",
       "      <td>10200</td>\n",
       "      <td>2550</td>\n",
       "      <td>3.40654</td>\n",
       "      <td>Before</td>\n",
       "      <td>Inf.ind</td>\n",
       "    </tr>\n",
       "    <tr>\n",
       "      <th>2</th>\n",
       "      <td>4A</td>\n",
       "      <td>4</td>\n",
       "      <td>78700</td>\n",
       "      <td>21270</td>\n",
       "      <td>4.327767</td>\n",
       "      <td>Before</td>\n",
       "      <td>Inf.ind</td>\n",
       "    </tr>\n",
       "    <tr>\n",
       "      <th>3</th>\n",
       "      <td>6A</td>\n",
       "      <td>6</td>\n",
       "      <td>8240</td>\n",
       "      <td>1017</td>\n",
       "      <td>3.007321</td>\n",
       "      <td>Before</td>\n",
       "      <td>Inf.ind</td>\n",
       "    </tr>\n",
       "    <tr>\n",
       "      <th>4</th>\n",
       "      <td>8A</td>\n",
       "      <td>8</td>\n",
       "      <td>99600</td>\n",
       "      <td>17025</td>\n",
       "      <td>4.231087</td>\n",
       "      <td>Before</td>\n",
       "      <td>Inf.ind</td>\n",
       "    </tr>\n",
       "  </tbody>\n",
       "</table>\n",
       "</div>"
      ],
      "text/plain": [
       "  Bacterial abundance and density estimates for salamanders in Bsal Exposure Experiment   \\\n",
       "0                                          Sample ID                                       \n",
       "1                                                 1A                                       \n",
       "2                                                 4A                                       \n",
       "3                                                 6A                                       \n",
       "4                                                 8A                                       \n",
       "\n",
       "      Unnamed: 1                           Unnamed: 2  \\\n",
       "0  Individual ID  Bacterial Abundance Estimate (qPCR)   \n",
       "1              1                                10200   \n",
       "2              4                                78700   \n",
       "3              6                                 8240   \n",
       "4              8                                99600   \n",
       "\n",
       "                    Unnamed: 3             Unnamed: 4 Unnamed: 5 Unnamed: 6  \n",
       "0  Bacterial Density (per mm2)  Log Bacterial Density  Timepoint  Treatment  \n",
       "1                         2550                3.40654     Before    Inf.ind  \n",
       "2                        21270               4.327767     Before    Inf.ind  \n",
       "3                         1017               3.007321     Before    Inf.ind  \n",
       "4                        17025               4.231087     Before    Inf.ind  "
      ]
     },
     "execution_count": 594,
     "metadata": {},
     "output_type": "execute_result"
    }
   ],
   "source": [
    "df = pd.read_excel('/Users/aasthapal/Downloads/SALAMANDER.xlsx', sheet_name=5)\n",
    "df.head()"
   ]
  },
  {
   "cell_type": "code",
   "execution_count": 595,
   "id": "c973ad12",
   "metadata": {},
   "outputs": [],
   "source": [
    "df_plot = df.iloc[:,[4,5]]\n",
    "# df_plot"
   ]
  },
  {
   "cell_type": "code",
   "execution_count": 446,
   "id": "d24dfe11",
   "metadata": {},
   "outputs": [],
   "source": [
    "df_plot.columns = [\"Log Bacterial Density\", \"Timepoint\"]"
   ]
  },
  {
   "cell_type": "code",
   "execution_count": 447,
   "id": "6b3c282a",
   "metadata": {},
   "outputs": [
    {
     "data": {
      "text/html": [
       "<div>\n",
       "<style scoped>\n",
       "    .dataframe tbody tr th:only-of-type {\n",
       "        vertical-align: middle;\n",
       "    }\n",
       "\n",
       "    .dataframe tbody tr th {\n",
       "        vertical-align: top;\n",
       "    }\n",
       "\n",
       "    .dataframe thead th {\n",
       "        text-align: right;\n",
       "    }\n",
       "</style>\n",
       "<table border=\"1\" class=\"dataframe\">\n",
       "  <thead>\n",
       "    <tr style=\"text-align: right;\">\n",
       "      <th></th>\n",
       "      <th>Log Bacterial Density</th>\n",
       "      <th>Timepoint</th>\n",
       "    </tr>\n",
       "  </thead>\n",
       "  <tbody>\n",
       "    <tr>\n",
       "      <th>1</th>\n",
       "      <td>3.40654</td>\n",
       "      <td>Before</td>\n",
       "    </tr>\n",
       "    <tr>\n",
       "      <th>2</th>\n",
       "      <td>4.327767</td>\n",
       "      <td>Before</td>\n",
       "    </tr>\n",
       "    <tr>\n",
       "      <th>3</th>\n",
       "      <td>3.007321</td>\n",
       "      <td>Before</td>\n",
       "    </tr>\n",
       "    <tr>\n",
       "      <th>4</th>\n",
       "      <td>4.231087</td>\n",
       "      <td>Before</td>\n",
       "    </tr>\n",
       "    <tr>\n",
       "      <th>5</th>\n",
       "      <td>3.472318</td>\n",
       "      <td>Before</td>\n",
       "    </tr>\n",
       "  </tbody>\n",
       "</table>\n",
       "</div>"
      ],
      "text/plain": [
       "  Log Bacterial Density Timepoint\n",
       "1               3.40654    Before\n",
       "2              4.327767    Before\n",
       "3              3.007321    Before\n",
       "4              4.231087    Before\n",
       "5              3.472318    Before"
      ]
     },
     "execution_count": 447,
     "metadata": {},
     "output_type": "execute_result"
    }
   ],
   "source": [
    "df_plot = df_plot.drop([0])\n",
    "df_plot.head()"
   ]
  },
  {
   "cell_type": "code",
   "execution_count": 641,
   "id": "4f430724",
   "metadata": {},
   "outputs": [],
   "source": [
    "# plt.boxplot(x=df_plot[\"Log Bacterial Density\"])"
   ]
  },
  {
   "cell_type": "code",
   "execution_count": 642,
   "id": "fc13b43d",
   "metadata": {},
   "outputs": [],
   "source": [
    "# df_grouped = df_plot.groupby(\"Timepoint\")"
   ]
  },
  {
   "cell_type": "code",
   "execution_count": 643,
   "id": "7f2e388b",
   "metadata": {},
   "outputs": [],
   "source": [
    "# df_before = df_grouped.get_group(\"Before\") \n",
    "# df_after = df_grouped.get_group(\"After\") "
   ]
  },
  {
   "cell_type": "code",
   "execution_count": 644,
   "id": "598beb36",
   "metadata": {},
   "outputs": [],
   "source": [
    "# plt.boxplot(x=df_before[\"Log Bacterial Density\"]) #both the plots on one \n",
    "# plt.boxplot(x=df_after[\"Log Bacterial Density\"])\n",
    "\n",
    "# plt.show()"
   ]
  },
  {
   "cell_type": "code",
   "execution_count": 645,
   "id": "0fcf1678",
   "metadata": {},
   "outputs": [],
   "source": [
    "# fig, axs = plt.subplots(2)\n",
    "\n",
    "# axs[0].boxplot(x=df_before[\"Log Bacterial Density\"])\n",
    "# axs[1].boxplot(x=df_after[\"Log Bacterial Density\"])"
   ]
  },
  {
   "cell_type": "code",
   "execution_count": 453,
   "id": "85f05781",
   "metadata": {},
   "outputs": [
    {
     "data": {
      "image/png": "[encoded data removed]",
      "text/plain": [
       "<Figure size 432x288 with 1 Axes>"
      ]
     },
     "metadata": {},
     "output_type": "display_data"
    }
   ],
   "source": [
    "box_plot_dict = {'control1' : df_plot[\"Log Bacterial Density\"], 'control2': df_before[\"Log Bacterial Density\"], 'control3': df_after[\"Log Bacterial Density\"]}\n",
    "fig, ax = plt.subplots()\n",
    "bp = ax.boxplot(box_plot_dict.values(), patch_artist=True)\n",
    "bp['boxes'][0].set(facecolor = 'dodgerblue')\n",
    "bp['boxes'][1].set(facecolor = 'orange')\n",
    "bp['boxes'][2].set(facecolor = 'dodgerblue')\n",
    "# ax.set_xticklabels(box_plot_dict.keys())\n",
    "ax.set_facecolor('lightgrey')\n",
    "plt.semilogy(base = 10)\n",
    "# plt.xlabel('')\n",
    "# plt.ylabel('')\n",
    "plt.show()"
   ]
  },
  {
   "cell_type": "code",
   "execution_count": null,
   "id": "b3f08adf",
   "metadata": {},
   "outputs": [],
   "source": []
  },
  {
   "cell_type": "markdown",
   "id": "4fc79bdc",
   "metadata": {},
   "source": [
    "# BRAY-CURTIS (EXTRA Content)"
   ]
  },
  {
   "cell_type": "code",
   "execution_count": null,
   "id": "0ef88c3a",
   "metadata": {},
   "outputs": [],
   "source": [
    "import pandas as pd\n",
    "import os\n",
    "import numpy as np\n",
    "import seaborn as sns\n",
    "import matplotlib.pyplot as plt \n",
    "import statsmodels.api as sm\n",
    "df_otu = pd.read_excel('SALAMANDER.xlsx', sheet_name='rarified OTUTable(Field)')\n",
    "df_otu.head()\n",
    "df_otu.dropna() "
   ]
  },
  {
   "cell_type": "code",
   "execution_count": 709,
   "id": "cb0e00a3",
   "metadata": {},
   "outputs": [],
   "source": [
    "dropped=df_otu.drop([0]) "
   ]
  },
  {
   "cell_type": "code",
   "execution_count": 710,
   "id": "fa35c0c9",
   "metadata": {},
   "outputs": [],
   "source": [
    "first_col_list= dropped.iloc[:, 0].tolist() #create the otus as list\n",
    "# print(first_col_list)\n",
    "# d= dataframe of all the values\n",
    "# print(DistanceMatrix(d, ids))"
   ]
  },
  {
   "cell_type": "code",
   "execution_count": 711,
   "id": "6e6a44e4",
   "metadata": {},
   "outputs": [],
   "source": [
    "otuid=[] #otu as list\n",
    "for word in first_col_list:\n",
    "    word = word.split(\",\")\n",
    "    otuid.append(word)\n",
    "# print(otuid)"
   ]
  },
  {
   "cell_type": "code",
   "execution_count": null,
   "id": "5d0d0484",
   "metadata": {},
   "outputs": [],
   "source": [
    "test_list = otuid #otu as string\n",
    "\n",
    "# printing original list \n",
    "# print(\"The original list : \" + str(test_list))\n",
    "  \n",
    "# Convert List of lists to list of Strings\n",
    "# using map() + join()\n",
    "otu_str = list(map(''.join, test_list))\n",
    "  \n",
    "# printing result\n",
    "print(str(otu_str))"
   ]
  },
  {
   "cell_type": "code",
   "execution_count": null,
   "id": "e2acd16a",
   "metadata": {},
   "outputs": [],
   "source": [
    "abundance = dropped.iloc[:, 1:-1]\n",
    "# abundance\n",
    "new_array = abundance.to_numpy()\n",
    "new_array"
   ]
  },
  {
   "cell_type": "code",
   "execution_count": null,
   "id": "216c63e7",
   "metadata": {},
   "outputs": [],
   "source": [
    "test_list = df_otu['Rarified OTUTable for Wild-caught, healthy fire salamanders in Germany'].tolist()"
   ]
  },
  {
   "cell_type": "code",
   "execution_count": null,
   "id": "5a7bb146",
   "metadata": {},
   "outputs": [],
   "source": [
    "test_list = test_list[1:]"
   ]
  },
  {
   "cell_type": "code",
   "execution_count": null,
   "id": "18f8a799",
   "metadata": {},
   "outputs": [],
   "source": [
    "bc_dm = beta_diversity(\"braycurtis\", new_array, test_list[0:1])"
   ]
  },
  {
   "cell_type": "code",
   "execution_count": null,
   "id": "a65f5873",
   "metadata": {},
   "outputs": [],
   "source": [
    "!pip install scikit-bio\n",
    "\n",
    "from skbio.diversity import beta_diversity #bray-cutis distances\n",
    "\n",
    "bc_dm = beta_diversity(\"braycurtis\", new_array, otu_str)"
   ]
  },
  {
   "cell_type": "code",
   "execution_count": null,
   "id": "a64922ed",
   "metadata": {},
   "outputs": [],
   "source": [
    "numpy_array = np.array(new_array)\n",
    "transpose = numpy_array.T\n",
    "\n",
    "transpose_list = transpose.tolist()\n",
    "\n",
    "print(transpose_list)"
   ]
  },
  {
   "cell_type": "code",
   "execution_count": null,
   "id": "7f10d9e4",
   "metadata": {},
   "outputs": [],
   "source": [
    "bc_dm = beta_diversity(\"braycurtis\", transpose_list, otu_str)"
   ]
  },
  {
   "cell_type": "code",
   "execution_count": null,
   "id": "766922af",
   "metadata": {},
   "outputs": [],
   "source": [
    "new_array[1]"
   ]
  },
  {
   "cell_type": "code",
   "execution_count": null,
   "id": "85e61b15",
   "metadata": {},
   "outputs": [],
   "source": [
    "new_data = [[510, 0, 0, 0, 0, 0, 0, 0, 0, 0, 0, 0, 0, 0, 0, 14, 0, 0, 0, 0, 0,0, 0, 0, 0, 0, 0, 0, 0, 0, 0, 0, 0, 0, 0, 0, 0, 0, 0, 0, 0, 0, 0,0, 0, 0, 0, 0, 0, 0, 0, 0, 0, 0, 0, 0, 0, 0, 0, 0, 0, 0, 0, 0, 0,0, 0, 0, 0, 0, 0, 0, 0, 0, 0, 0, 0, 0, 0, 0, 0, 0, 0, 0, 0, 0, 0,0, 0, 0, 0, 0, 0, 0, 0, 1, 0, 0, 0, 0, 0, 0, 0, 0, 0, 0, 0, 0, 0,0, 0, 0, 0, 0, 0, 0, 0, 1, 0, 0, 0, 0, 0, 0, 0, 1, 0, 0, 0, 0, 0,0, 0, 1, 0, 0, 0, 825, 0, 0, 0, 0, 0, 0, 0, 0, 0, 0, 0, 0, 0, 0, 0,0, 0, 0, 0, 0, 0, 0, 0, 0, 0, 0, 0, 0, 0, 0, 0, 0, 0, 0, 0, 0, 0,0, 0, 0, 0, 0, 0, 0, 0, 0, 0, 0, 0, 0, 0, 0, 0, 0, 0, 0, 0, 0, 0,0, 0, 0, 0, 0, 0, 0, 0, 0, 0, 0, 0],\n",
    "            [88, 0, 0, 0, 0, 0, 0, 0, 0, 0, 0, 0, 0, 0, 0, 0, 0, 0, 0, 0, 0, 0,0, 0, 0, 0, 0, 0, 0, 0, 0, 0, 0, 0, 0, 0, 0, 0, 0, 0, 0, 0, 0, 0,0, 0, 0, 0, 0, 0, 0, 0, 0, 0, 0, 0, 0, 0, 0, 0, 0, 0, 0, 0, 0, 0,0, 0, 0, 0, 0, 0, 0, 0, 0, 0, 0, 0, 0, 0, 0, 0, 0, 0, 0, 0, 0, 0,0, 0, 0, 0, 0, 0, 0, 0, 0, 0, 0, 0, 0, 0, 0, 0, 0, 0, 0, 0, 0, 0,0, 0, 0, 0, 0, 0, 0, 0, 0, 0, 0, 0, 1, 0, 0, 0, 0, 0, 0, 0, 0, 0,0, 0, 0, 0, 0, 64, 0, 0, 0, 0, 0, 0, 0, 0, 0, 0, 0, 0, 0, 0, 0, 0,0, 0, 0, 0, 0, 0, 0, 0, 0, 0, 0, 0, 0, 0, 0, 0, 0, 0, 0, 0, 0, 0,0, 0, 0, 0, 0, 0, 0, 0, 0, 0, 0, 0, 0, 0, 0, 0, 0, 0, 0, 0, 0, 0,0, 0, 0, 0, 0, 0, 0, 0, 0, 0, 0]]"
   ]
  },
  {
   "cell_type": "code",
   "execution_count": null,
   "id": "1aaebbbd",
   "metadata": {},
   "outputs": [],
   "source": [
    "new_ids = ['TACGTAGGGTGCGAGCGTTGTCCGGAATTATTGGGCGTAAAGAGCTCGTAGGCGGTCTGTCGCGTCTGCTGTGAAATCCCGAGGCTCAACCTCGGGCCAGCAGTGGGTACGGGCAGACTAGAGTGCGGTAGGGGAGATTGGAATTCCTGG', 'TACGTAGGGTGCAAGCGTTAATCGGAATTACTGGGCGTAAAGCGTGCGCAGGCGGTTCGCTAAGACCGATGTGAAATCCCCGGGCTTAACCTGGGAACTGCATTGGTGACTGGCGGGCTAGAGTATGGCAGAGGGGGGTAGAATTCCACG']"
   ]
  },
  {
   "cell_type": "code",
   "execution_count": null,
   "id": "083e69d5",
   "metadata": {},
   "outputs": [],
   "source": [
    "new_new_id = list('TAG')"
   ]
  },
  {
   "cell_type": "code",
   "execution_count": null,
   "id": "2dcd2fe2",
   "metadata": {},
   "outputs": [],
   "source": [
    "test_new = test_list[0:2]"
   ]
  },
  {
   "cell_type": "code",
   "execution_count": null,
   "id": "1f617e2a",
   "metadata": {},
   "outputs": [],
   "source": [
    "test_new"
   ]
  },
  {
   "cell_type": "code",
   "execution_count": null,
   "id": "2f29fc16",
   "metadata": {},
   "outputs": [],
   "source": [
    "type(new_array.tolist())"
   ]
  },
  {
   "cell_type": "code",
   "execution_count": null,
   "id": "ef30e032",
   "metadata": {},
   "outputs": [],
   "source": [
    "bc_dm2 = beta_diversity(\"braycurtis\", new_array[0:11].tolist(), test_list[0:11])\n",
    "bc_dm2"
   ]
  },
  {
   "cell_type": "code",
   "execution_count": null,
   "id": "9c24542a",
   "metadata": {},
   "outputs": [],
   "source": [
    "bc_dm = beta_diversity(\"braycurtis\", new_array[0:201].tolist(), test_list[0:201])"
   ]
  },
  {
   "cell_type": "code",
   "execution_count": null,
   "id": "6161faf2",
   "metadata": {},
   "outputs": [],
   "source": [
    "print(bc_dm)"
   ]
  },
  {
   "cell_type": "code",
   "execution_count": null,
   "id": "575db9c1",
   "metadata": {},
   "outputs": [],
   "source": [
    "wu_dm = beta_diversity(\"weighted_unifrac\", new_array[0:201].tolist(), test_list[0:201], otu_ids=test_list[0:201]) #unifrac distances\n",
    "print(wu_dm)"
   ]
  },
  {
   "cell_type": "code",
   "execution_count": null,
   "id": "2f61cdfd",
   "metadata": {},
   "outputs": [],
   "source": [
    "from skbio.stats.distance import mantel\n",
    "r, p_value, n = mantel(wu_dm, bc_dm)"
   ]
  }
 ],
 "metadata": {
  "kernelspec": {
   "display_name": "Python 3",
   "language": "python",
   "name": "python3"
  },
  "language_info": {
   "codemirror_mode": {
    "name": "ipython",
    "version": 3
   },
   "file_extension": ".py",
   "mimetype": "text/x-python",
   "name": "python",
   "nbconvert_exporter": "python",
   "pygments_lexer": "ipython3",
   "version": "3.8.8"
  }
 },
 "nbformat": 4,
 "nbformat_minor": 5
}
